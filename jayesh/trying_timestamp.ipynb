{
 "cells": [
  {
   "cell_type": "code",
   "execution_count": 2,
   "metadata": {},
   "outputs": [],
   "source": [
    "from pydub import AudioSegment\n",
    "import numpy as np\n",
    "import librosa\n",
    "import librosa.display\n",
    "import matplotlib.pyplot as plt\n",
    "import random\n",
    "from sklearn.metrics import confusion_matrix\n",
    "import pandas as pd\n",
    "import torch\n",
    "import torchaudio\n",
    "from torch.utils.data import DataLoader, Dataset\n",
    "from torch import nn\n",
    "import torch.optim as optim\n",
    "import torch.nn.functional as F\n",
    "from pydub import AudioSegment\n",
    "from sklearn.model_selection import train_test_split"
   ]
  },
  {
   "cell_type": "code",
   "execution_count": 3,
   "metadata": {},
   "outputs": [],
   "source": [
    "from tqdm import tqdm"
   ]
  },
  {
   "cell_type": "code",
   "execution_count": 4,
   "metadata": {},
   "outputs": [],
   "source": [
    "import os\n",
    "result = os.environ['PATH']\n",
    "os.environ['PATH'] += os.pathsep + 'C:\\\\Program Files\\\\ffmpeg-2024-09-22-git-a577d313b2-full_build\\\\bin'"
   ]
  },
  {
   "cell_type": "code",
   "execution_count": 5,
   "metadata": {},
   "outputs": [],
   "source": [
    "path_to_jayesh_drinking = \"DrinkingAudio\\\\JayeshDrinking\\\\DrinkRecording\"\n",
    "path_to_jayesh_not_drinking = \"DrinkingAudio\\\\JayeshDrinking\\\\SilentRecording\\\\\"\n",
    "path_to_elvis_drinking = \"DrinkingAudio\\\\ElvisDrinking\\\\DrinkRecording\\\\\"\n",
    "path_to_elvis_not_drinking = \"DrinkingAudio\\\\ElvisDrinking\\\\SilentRecording\\\\\""
   ]
  },
  {
   "cell_type": "code",
   "execution_count": 22,
   "metadata": {},
   "outputs": [],
   "source": [
    "# load jayesh m4a files \n",
    "jayesh_drinking_files = [f for f in os.listdir(path_to_jayesh_drinking) if f.endswith('.m4a')]\n",
    "jayesh_not_drinking_files = [f for f in os.listdir(path_to_jayesh_not_drinking) if f.endswith('.m4a')]\n",
    "\n",
    "# load elvis mp4 files\n",
    "elvis_drinking_files = [f for f in os.listdir(path_to_elvis_drinking) if f.endswith('.mp4')]\n",
    "elvis_not_drinking_files = [f for f in os.listdir(path_to_elvis_not_drinking) if f.endswith('.mp4')]"
   ]
  },
  {
   "cell_type": "code",
   "execution_count": 23,
   "metadata": {},
   "outputs": [],
   "source": [
    "# Function to load audio file\n",
    "def load_audio_file(file_path):\n",
    "    audio = AudioSegment.from_file(file_path)\n",
    "    audio = audio.set_frame_rate(16000)\n",
    "    return audio\n",
    "\n",
    "# Load audio files and store in dictionaries\n",
    "jayesh_drinking_waveforms = {f: load_audio_file(os.path.join(path_to_jayesh_drinking, f)) for f in jayesh_drinking_files}\n",
    "jayesh_not_drinking_waveforms = {f: load_audio_file(os.path.join(path_to_jayesh_not_drinking, f)) for f in jayesh_not_drinking_files}\n",
    "elvis_drinking_waveforms = {f: load_audio_file(os.path.join(path_to_elvis_drinking, f)) for f in elvis_drinking_files}\n",
    "elvis_not_drinking_waveforms = {f: load_audio_file(os.path.join(path_to_elvis_not_drinking, f)) for f in elvis_not_drinking_files}\n"
   ]
  },
  {
   "cell_type": "code",
   "execution_count": 24,
   "metadata": {},
   "outputs": [
    {
     "name": "stdout",
     "output_type": "stream",
     "text": [
      "0\n",
      "26\n",
      "110\n",
      "179\n"
     ]
    }
   ],
   "source": [
    "# print length of each list \n",
    "print(len(jayesh_drinking_waveforms))\n",
    "print(len(jayesh_not_drinking_waveforms))\n",
    "print(len(elvis_drinking_waveforms))\n",
    "print(len(elvis_not_drinking_waveforms))"
   ]
  },
  {
   "cell_type": "code",
   "execution_count": 25,
   "metadata": {},
   "outputs": [],
   "source": [
    "# load csv files for jayesh and elvis\n",
    "# jayesh_drinking_csv = pd.read_csv(\"DrinkingAudio\\\\JayeshDrinking\\\\Csv\\\\GulpTimeElvis.csv\")\n",
    "elvis_drinking_csv = pd.read_csv(\"DrinkingAudio\\\\ElvisDrinking\\\\Csv\\\\GulpTimeElvis.csv\")"
   ]
  },
  {
   "cell_type": "code",
   "execution_count": 26,
   "metadata": {},
   "outputs": [
    {
     "data": {
      "text/html": [
       "<div>\n",
       "<style scoped>\n",
       "    .dataframe tbody tr th:only-of-type {\n",
       "        vertical-align: middle;\n",
       "    }\n",
       "\n",
       "    .dataframe tbody tr th {\n",
       "        vertical-align: top;\n",
       "    }\n",
       "\n",
       "    .dataframe thead th {\n",
       "        text-align: right;\n",
       "    }\n",
       "</style>\n",
       "<table border=\"1\" class=\"dataframe\">\n",
       "  <thead>\n",
       "    <tr style=\"text-align: right;\">\n",
       "      <th></th>\n",
       "      <th>SampleName</th>\n",
       "      <th>SampleVolume</th>\n",
       "      <th>StartTime</th>\n",
       "      <th>GulpTimes</th>\n",
       "      <th>EndTime</th>\n",
       "    </tr>\n",
       "  </thead>\n",
       "  <tbody>\n",
       "    <tr>\n",
       "      <th>0</th>\n",
       "      <td>ncs_water_bottle_0_elvis_100</td>\n",
       "      <td>112</td>\n",
       "      <td>00:05:41</td>\n",
       "      <td>00:07:39_00:09:06_00:10:62_00:12:14_00:13:81_0...</td>\n",
       "      <td>00:20:27</td>\n",
       "    </tr>\n",
       "    <tr>\n",
       "      <th>1</th>\n",
       "      <td>ncs_water_bottle_0_elvis_101</td>\n",
       "      <td>96</td>\n",
       "      <td>00:05:07</td>\n",
       "      <td>00:06:90_00:08:51_00:10:08_00:11:65_00:13:52_0...</td>\n",
       "      <td>00:18:02</td>\n",
       "    </tr>\n",
       "    <tr>\n",
       "      <th>2</th>\n",
       "      <td>ncs_water_bottle_0_elvis_102</td>\n",
       "      <td>93</td>\n",
       "      <td>00:02:42</td>\n",
       "      <td>00:04:50_00:06:27_00:07:93_00:09:60_00:11:37_0...</td>\n",
       "      <td>00:16:24</td>\n",
       "    </tr>\n",
       "    <tr>\n",
       "      <th>3</th>\n",
       "      <td>ncs_water_bottle_0_elvis_103</td>\n",
       "      <td>64</td>\n",
       "      <td>00:03:18</td>\n",
       "      <td>00:05:31_00:07:04_00:08:66_00:10:18_00:11:81_</td>\n",
       "      <td>00:12:77</td>\n",
       "    </tr>\n",
       "    <tr>\n",
       "      <th>4</th>\n",
       "      <td>ncs_water_bottle_0_elvis_104</td>\n",
       "      <td>86</td>\n",
       "      <td>00:04:00</td>\n",
       "      <td>00:05:77_00:07:49_00:09:32_00:11:25_00:13:18_0...</td>\n",
       "      <td>00:16:48</td>\n",
       "    </tr>\n",
       "  </tbody>\n",
       "</table>\n",
       "</div>"
      ],
      "text/plain": [
       "                     SampleName  SampleVolume StartTime  \\\n",
       "0  ncs_water_bottle_0_elvis_100           112  00:05:41   \n",
       "1  ncs_water_bottle_0_elvis_101            96  00:05:07   \n",
       "2  ncs_water_bottle_0_elvis_102            93  00:02:42   \n",
       "3  ncs_water_bottle_0_elvis_103            64  00:03:18   \n",
       "4  ncs_water_bottle_0_elvis_104            86  00:04:00   \n",
       "\n",
       "                                           GulpTimes   EndTime  \n",
       "0  00:07:39_00:09:06_00:10:62_00:12:14_00:13:81_0...  00:20:27  \n",
       "1  00:06:90_00:08:51_00:10:08_00:11:65_00:13:52_0...  00:18:02  \n",
       "2  00:04:50_00:06:27_00:07:93_00:09:60_00:11:37_0...  00:16:24  \n",
       "3      00:05:31_00:07:04_00:08:66_00:10:18_00:11:81_  00:12:77  \n",
       "4  00:05:77_00:07:49_00:09:32_00:11:25_00:13:18_0...  00:16:48  "
      ]
     },
     "execution_count": 26,
     "metadata": {},
     "output_type": "execute_result"
    }
   ],
   "source": [
    "elvis_drinking_csv.head()"
   ]
  },
  {
   "cell_type": "code",
   "execution_count": 27,
   "metadata": {},
   "outputs": [],
   "source": [
    "# remove .mp4 and .m4a from each key in the dictionary depending on what it has\n",
    "jayesh_drinking_waveforms = {k.replace('.m4a', ''): v for k, v in jayesh_drinking_waveforms.items()}\n",
    "jayesh_not_drinking_waveforms = {k.replace('.m4a', ''): v for k, v in jayesh_not_drinking_waveforms.items()}\n",
    "elvis_drinking_waveforms = {k.replace('.mp4', ''): v for k, v in elvis_drinking_waveforms.items()}\n",
    "elvis_not_drinking_waveforms = {k.replace('.mp4', ''): v for k, v in elvis_not_drinking_waveforms.items()}"
   ]
  },
  {
   "cell_type": "code",
   "execution_count": 28,
   "metadata": {},
   "outputs": [
    {
     "data": {
      "text/plain": [
       "23.684375"
      ]
     },
     "execution_count": 28,
     "metadata": {},
     "output_type": "execute_result"
    }
   ],
   "source": [
    "# length of a waveform \n",
    "elvis_drinking_waveforms['ncs_water_bottle_0_elvis_100'].duration_seconds"
   ]
  },
  {
   "cell_type": "code",
   "execution_count": 29,
   "metadata": {},
   "outputs": [],
   "source": [
    "# add duration to the df based on the key from elvis_drinking_waveforms\n",
    "elvis_drinking_csv['duration'] = elvis_drinking_csv['SampleName'].apply(lambda x: elvis_drinking_waveforms[x].duration_seconds)"
   ]
  },
  {
   "cell_type": "code",
   "execution_count": 30,
   "metadata": {},
   "outputs": [
    {
     "data": {
      "text/html": [
       "<div>\n",
       "<style scoped>\n",
       "    .dataframe tbody tr th:only-of-type {\n",
       "        vertical-align: middle;\n",
       "    }\n",
       "\n",
       "    .dataframe tbody tr th {\n",
       "        vertical-align: top;\n",
       "    }\n",
       "\n",
       "    .dataframe thead th {\n",
       "        text-align: right;\n",
       "    }\n",
       "</style>\n",
       "<table border=\"1\" class=\"dataframe\">\n",
       "  <thead>\n",
       "    <tr style=\"text-align: right;\">\n",
       "      <th></th>\n",
       "      <th>SampleName</th>\n",
       "      <th>SampleVolume</th>\n",
       "      <th>StartTime</th>\n",
       "      <th>GulpTimes</th>\n",
       "      <th>EndTime</th>\n",
       "      <th>duration</th>\n",
       "    </tr>\n",
       "  </thead>\n",
       "  <tbody>\n",
       "    <tr>\n",
       "      <th>0</th>\n",
       "      <td>ncs_water_bottle_0_elvis_100</td>\n",
       "      <td>112</td>\n",
       "      <td>00:05:41</td>\n",
       "      <td>00:07:39_00:09:06_00:10:62_00:12:14_00:13:81_0...</td>\n",
       "      <td>00:20:27</td>\n",
       "      <td>23.684375</td>\n",
       "    </tr>\n",
       "    <tr>\n",
       "      <th>1</th>\n",
       "      <td>ncs_water_bottle_0_elvis_101</td>\n",
       "      <td>96</td>\n",
       "      <td>00:05:07</td>\n",
       "      <td>00:06:90_00:08:51_00:10:08_00:11:65_00:13:52_0...</td>\n",
       "      <td>00:18:02</td>\n",
       "      <td>21.339125</td>\n",
       "    </tr>\n",
       "    <tr>\n",
       "      <th>2</th>\n",
       "      <td>ncs_water_bottle_0_elvis_102</td>\n",
       "      <td>93</td>\n",
       "      <td>00:02:42</td>\n",
       "      <td>00:04:50_00:06:27_00:07:93_00:09:60_00:11:37_0...</td>\n",
       "      <td>00:16:24</td>\n",
       "      <td>18.622438</td>\n",
       "    </tr>\n",
       "    <tr>\n",
       "      <th>3</th>\n",
       "      <td>ncs_water_bottle_0_elvis_103</td>\n",
       "      <td>64</td>\n",
       "      <td>00:03:18</td>\n",
       "      <td>00:05:31_00:07:04_00:08:66_00:10:18_00:11:81_</td>\n",
       "      <td>00:12:77</td>\n",
       "      <td>15.487687</td>\n",
       "    </tr>\n",
       "    <tr>\n",
       "      <th>4</th>\n",
       "      <td>ncs_water_bottle_0_elvis_104</td>\n",
       "      <td>86</td>\n",
       "      <td>00:04:00</td>\n",
       "      <td>00:05:77_00:07:49_00:09:32_00:11:25_00:13:18_0...</td>\n",
       "      <td>00:16:48</td>\n",
       "      <td>19.481562</td>\n",
       "    </tr>\n",
       "  </tbody>\n",
       "</table>\n",
       "</div>"
      ],
      "text/plain": [
       "                     SampleName  SampleVolume StartTime  \\\n",
       "0  ncs_water_bottle_0_elvis_100           112  00:05:41   \n",
       "1  ncs_water_bottle_0_elvis_101            96  00:05:07   \n",
       "2  ncs_water_bottle_0_elvis_102            93  00:02:42   \n",
       "3  ncs_water_bottle_0_elvis_103            64  00:03:18   \n",
       "4  ncs_water_bottle_0_elvis_104            86  00:04:00   \n",
       "\n",
       "                                           GulpTimes   EndTime   duration  \n",
       "0  00:07:39_00:09:06_00:10:62_00:12:14_00:13:81_0...  00:20:27  23.684375  \n",
       "1  00:06:90_00:08:51_00:10:08_00:11:65_00:13:52_0...  00:18:02  21.339125  \n",
       "2  00:04:50_00:06:27_00:07:93_00:09:60_00:11:37_0...  00:16:24  18.622438  \n",
       "3      00:05:31_00:07:04_00:08:66_00:10:18_00:11:81_  00:12:77  15.487687  \n",
       "4  00:05:77_00:07:49_00:09:32_00:11:25_00:13:18_0...  00:16:48  19.481562  "
      ]
     },
     "execution_count": 30,
     "metadata": {},
     "output_type": "execute_result"
    }
   ],
   "source": [
    "elvis_drinking_csv.head()"
   ]
  },
  {
   "cell_type": "code",
   "execution_count": 31,
   "metadata": {},
   "outputs": [
    {
     "name": "stdout",
     "output_type": "stream",
     "text": [
      "<class 'pandas.core.frame.DataFrame'>\n",
      "RangeIndex: 110 entries, 0 to 109\n",
      "Data columns (total 6 columns):\n",
      " #   Column        Non-Null Count  Dtype  \n",
      "---  ------        --------------  -----  \n",
      " 0   SampleName    110 non-null    object \n",
      " 1   SampleVolume  110 non-null    int64  \n",
      " 2   StartTime     110 non-null    object \n",
      " 3   GulpTimes     110 non-null    object \n",
      " 4   EndTime       110 non-null    object \n",
      " 5   duration      110 non-null    float64\n",
      "dtypes: float64(1), int64(1), object(4)\n",
      "memory usage: 5.3+ KB\n"
     ]
    }
   ],
   "source": [
    "elvis_drinking_csv.info()"
   ]
  },
  {
   "cell_type": "code",
   "execution_count": 32,
   "metadata": {},
   "outputs": [
    {
     "data": {
      "text/plain": [
       "7710"
      ]
     },
     "execution_count": 32,
     "metadata": {},
     "output_type": "execute_result"
    }
   ],
   "source": [
    "# sum of SampleVolume\n",
    "elvis_drinking_csv['SampleVolume'].sum()"
   ]
  },
  {
   "cell_type": "code",
   "execution_count": 35,
   "metadata": {},
   "outputs": [],
   "source": [
    "# sum of duration of all waveforms in the dictionary\n",
    "a = sum([v.duration_seconds for v in elvis_drinking_waveforms.values()])\n",
    "b = sum([v.duration_seconds for v in jayesh_drinking_waveforms.values()])\n",
    "c = sum([v.duration_seconds for v in jayesh_not_drinking_waveforms.values()])\n",
    "d = sum([v.duration_seconds for v in elvis_not_drinking_waveforms.values()])"
   ]
  },
  {
   "cell_type": "code",
   "execution_count": 36,
   "metadata": {},
   "outputs": [
    {
     "data": {
      "text/plain": [
       "1582.7893749999992"
      ]
     },
     "execution_count": 36,
     "metadata": {},
     "output_type": "execute_result"
    }
   ],
   "source": [
    "# sum of all waveforms\n",
    "a"
   ]
  },
  {
   "cell_type": "code",
   "execution_count": 37,
   "metadata": {},
   "outputs": [
    {
     "data": {
      "text/plain": [
       "8478.1913125"
      ]
     },
     "execution_count": 37,
     "metadata": {},
     "output_type": "execute_result"
    }
   ],
   "source": [
    "a + b + c + d"
   ]
  },
  {
   "cell_type": "code",
   "execution_count": 38,
   "metadata": {},
   "outputs": [],
   "source": [
    "# combine the drinking and not drinking waveforms\n",
    "drinking_waveforms = {**jayesh_drinking_waveforms, **elvis_drinking_waveforms}\n",
    "not_drinking_waveforms = {**jayesh_not_drinking_waveforms, **elvis_not_drinking_waveforms}"
   ]
  },
  {
   "cell_type": "code",
   "execution_count": null,
   "metadata": {},
   "outputs": [],
   "source": [
    "drinking_waveforms"
   ]
  },
  {
   "cell_type": "code",
   "execution_count": 39,
   "metadata": {},
   "outputs": [],
   "source": [
    "def augment_audio(audio, augment_type=\"pitch_shift\"):\n",
    "    samples = np.array(audio.get_array_of_samples())\n",
    "    \n",
    "    if augment_type == \"pitch_shift\":\n",
    "        # Pitch shifting\n",
    "        n_steps = random.randint(-6, 6)  # Shift pitch by up to 2 steps\n",
    "        shifted = librosa.effects.pitch_shift(samples.astype(float), sr=audio.frame_rate, n_steps=n_steps)\n",
    "        return AudioSegment(\n",
    "            shifted.astype(np.int16).tobytes(), \n",
    "            frame_rate=audio.frame_rate, \n",
    "            sample_width=audio.sample_width,\n",
    "            channels=audio.channels\n",
    "        )\n",
    "    elif augment_type == \"add_noise\":\n",
    "        # Adding noise\n",
    "        noise = np.random.normal(0, 0.20, len(samples))  # Adjust the noise level as needed\n",
    "        noisy = samples + noise\n",
    "        return AudioSegment(\n",
    "            noisy.astype(np.int16).tobytes(), \n",
    "            frame_rate=audio.frame_rate, \n",
    "            sample_width=audio.sample_width,\n",
    "            channels=audio.channels\n",
    "        )\n",
    "    elif augment_type == \"volume_adjust\":\n",
    "        # Adjusting volume\n",
    "        volume_change = random.uniform(-10, 15)  # Change volume by -5 to +5 dB\n",
    "        return audio + volume_change  # Adjust volume\n",
    "    else:\n",
    "        return audio  # No augmentation"
   ]
  },
  {
   "cell_type": "code",
   "execution_count": 41,
   "metadata": {},
   "outputs": [
    {
     "name": "stderr",
     "output_type": "stream",
     "text": [
      "100%|██████████| 110/110 [00:26<00:00,  4.09it/s]\n"
     ]
    }
   ],
   "source": [
    "# Assuming original_data is a dictionary with file names as keys and AudioSegment objects as values\n",
    "augmented_data_drinking = {}\n",
    "\n",
    "for sample_name, audio in tqdm(drinking_waveforms.items()):  # Loop through the original dataset\n",
    "    for i in range(3):  # Create 3 augmented versions\n",
    "        augment_type = random.choice([\"pitch_shift\", \"add_noise\", \"volume_adjust\"])  # Randomly select augmentation\n",
    "        augmented_audio = augment_audio(audio, augment_type=augment_type)\n",
    "        augmented_data_drinking[f\"{sample_name}_aug{i}\"] = augmented_audio\n"
   ]
  },
  {
   "cell_type": "code",
   "execution_count": 44,
   "metadata": {},
   "outputs": [
    {
     "name": "stderr",
     "output_type": "stream",
     "text": [
      "100%|██████████| 205/205 [01:32<00:00,  2.21it/s]\n"
     ]
    }
   ],
   "source": [
    "augmented_data_non_drinking = {}\n",
    "\n",
    "for sample_name, audio in tqdm(not_drinking_waveforms.items()):  # Loop through the original dataset\n",
    "    for i in range(3):  # Create 3 augmented versions\n",
    "        augment_type = random.choice([\"pitch_shift\", \"add_noise\", \"volume_adjust\"])  # Randomly select augmentation\n",
    "        augmented_audio = augment_audio(audio, augment_type=augment_type)\n",
    "        augmented_data_non_drinking[f\"{sample_name}_aug{i}\"] = augmented_audio\n",
    "        "
   ]
  },
  {
   "cell_type": "code",
   "execution_count": 33,
   "metadata": {},
   "outputs": [],
   "source": [
    "def generate_white_noise(duration_ms, amplitude=0.5):\n",
    "    \"\"\"\n",
    "    Generate white noise of specified duration and amplitude.\n",
    "    \"\"\"\n",
    "    sample_rate = 16000  # Standard audio sample rate\n",
    "    num_samples = int(sample_rate * (duration_ms / 1000.0))  # Total samples based on duration\n",
    "    noise = np.random.normal(0, amplitude, num_samples).astype(np.float32)  # Generate random values\n",
    "    \n",
    "    # Convert to an AudioSegment\n",
    "    noise_audio = AudioSegment(\n",
    "        (noise * 32767).astype(np.int16).tobytes(),  # Scale and convert to 16-bit PCM\n",
    "        frame_rate=sample_rate,\n",
    "        sample_width=2,  # 16-bit samples = 2 bytes\n",
    "        channels=1  # Mono\n",
    "    )\n",
    "    return noise_audio\n",
    "\n",
    "def generate_pink_noise(duration_ms, amplitude=0.5):\n",
    "    \"\"\"\n",
    "    Generate pink noise of specified duration and amplitude.\n",
    "    \"\"\"\n",
    "    sample_rate = 16000\n",
    "    num_samples = int(sample_rate * (duration_ms / 1000.0))\n",
    "    uneven = num_samples % 2\n",
    "    random_array = np.random.randn(num_samples // 2 + 1 + uneven) + 1j * np.random.randn(num_samples // 2 + 1 + uneven)\n",
    "    s = np.abs(np.fft.rfft(random_array))**(-1)  # Create pink noise in the frequency domain\n",
    "    s = np.fft.irfft(s, n=num_samples).real\n",
    "    pink_noise = np.interp(s, (s.min(), s.max()), (-amplitude, amplitude))  # Normalize\n",
    "    \n",
    "    # Convert to an AudioSegment\n",
    "    pink_audio = AudioSegment(\n",
    "        (pink_noise * 32767).astype(np.int16).tobytes(),\n",
    "        frame_rate=sample_rate,\n",
    "        sample_width=2,\n",
    "        channels=1\n",
    "    )\n",
    "    return pink_audio\n",
    "\n",
    "def generate_random_noise(duration_ms):\n",
    "    noise_type = random.choice([\"white\", \"pink\"])\n",
    "    if noise_type == \"white\":\n",
    "        return generate_white_noise(duration_ms)\n",
    "    elif noise_type == \"pink\":\n",
    "        return generate_pink_noise(duration_ms)"
   ]
  },
  {
   "cell_type": "code",
   "execution_count": null,
   "metadata": {},
   "outputs": [],
   "source": [
    "def generate_random_noise(duration_ms):\n",
    "    # Generate a noise segment of the specified duration\n",
    "    return AudioSegment.silent(duration=duration_ms)  # Replace with actual noise if available\n"
   ]
  },
  {
   "cell_type": "code",
   "execution_count": 50,
   "metadata": {},
   "outputs": [
    {
     "name": "stderr",
     "output_type": "stream",
     "text": [
      "  0%|          | 0/945 [00:00<?, ?it/s]c:\\Users\\Jayesh\\AppData\\Local\\Programs\\Python\\Python39\\lib\\site-packages\\numpy\\fft\\_pocketfft.py:70: ComplexWarning: Casting complex values to real discards the imaginary part\n",
      "  r = pfi.execute(a, is_real, is_forward, fct)\n",
      "100%|██████████| 945/945 [10:18<00:00,  1.53it/s]\n"
     ]
    }
   ],
   "source": [
    "# Combine and shuffle the two dictionaries\n",
    "all_data = list(augmented_data_drinking.items()) + list(augmented_data_non_drinking.items())\n",
    "random.shuffle(all_data)  # Randomly shuffle drinking and non-drinking samples\n",
    "\n",
    "final_audio = AudioSegment.empty()\n",
    "event_tracker = []  # Will store start and end times of each drinking event in final_audio\n",
    "\n",
    "current_position = 0  # Track the current position in the final_audio\n",
    "\n",
    "for sample_name, audio in tqdm(all_data):\n",
    "    # Check if the sample is from the drinking dataset\n",
    "    if sample_name in augmented_data_drinking:\n",
    "        # Retrieve metadata for drinking events\n",
    "        row = elvis_drinking_csv[elvis_drinking_csv['SampleName'] == sample_name.split('_aug')[0]].iloc[0]  # Assuming csv_data is a DataFrame\n",
    "        \n",
    "        # Retrieve start and end times for drinking within this sample\n",
    "        start_time_components = row['StartTime'].split(\":\")\n",
    "        end_time_components = row['EndTime'].split(\":\")\n",
    "        start_time_ms = int(start_time_components[1]) * 1000 + int(start_time_components[2])  # Convert StartTime to ms\n",
    "        end_time_ms = int(end_time_components[1]) * 1000 + int(end_time_components[2])  # Convert EndTime to ms\n",
    "        \n",
    "        # Add drinking event to tracker with current position in final audio\n",
    "        event_tracker.append({\n",
    "            \"start\": current_position + start_time_ms,\n",
    "            \"end\": current_position + end_time_ms,\n",
    "            \"sample_name\": sample_name\n",
    "        })\n",
    "    \n",
    "    # Append the sample to final_audio\n",
    "    final_audio += audio\n",
    "    current_position += len(audio)\n",
    "    \n",
    "    # Add random noise between samples\n",
    "    if random.random() < 0.85:  # Add noise between 80% of the samples\n",
    "        noise_duration_ms = random.randint(6000, 18000)  # Noise duration: 1 min to 3 min\n",
    "        noise_segment = generate_random_noise(noise_duration_ms)\n",
    "        final_audio += noise_segment\n",
    "        current_position += noise_duration_ms\n",
    "\n"
   ]
  },
  {
   "cell_type": "code",
   "execution_count": null,
   "metadata": {},
   "outputs": [],
   "source": []
  },
  {
   "cell_type": "code",
   "execution_count": 51,
   "metadata": {},
   "outputs": [],
   "source": [
    "# Save the final audio file\n",
    "final_audio.export(\"final_audio_with_drinking_events.wav\", format=\"wav\")\n",
    "\n",
    "# Save the event tracker\n",
    "import pandas as pd\n",
    "\n",
    "event_df = pd.DataFrame(event_tracker)\n",
    "event_df.to_csv(\"drinking_event_times.csv\", index=False)"
   ]
  },
  {
   "cell_type": "code",
   "execution_count": 53,
   "metadata": {},
   "outputs": [
    {
     "data": {
      "text/html": [
       "<div>\n",
       "<style scoped>\n",
       "    .dataframe tbody tr th:only-of-type {\n",
       "        vertical-align: middle;\n",
       "    }\n",
       "\n",
       "    .dataframe tbody tr th {\n",
       "        vertical-align: top;\n",
       "    }\n",
       "\n",
       "    .dataframe thead th {\n",
       "        text-align: right;\n",
       "    }\n",
       "</style>\n",
       "<table border=\"1\" class=\"dataframe\">\n",
       "  <thead>\n",
       "    <tr style=\"text-align: right;\">\n",
       "      <th></th>\n",
       "      <th>start</th>\n",
       "      <th>end</th>\n",
       "      <th>sample_name</th>\n",
       "    </tr>\n",
       "  </thead>\n",
       "  <tbody>\n",
       "    <tr>\n",
       "      <th>0</th>\n",
       "      <td>1041</td>\n",
       "      <td>10016</td>\n",
       "      <td>library_water_bottle_0_elvis_162_aug2</td>\n",
       "    </tr>\n",
       "    <tr>\n",
       "      <th>1</th>\n",
       "      <td>196518</td>\n",
       "      <td>206521</td>\n",
       "      <td>home_water_bottle_0_elvis_111_aug1</td>\n",
       "    </tr>\n",
       "    <tr>\n",
       "      <th>2</th>\n",
       "      <td>408802</td>\n",
       "      <td>419868</td>\n",
       "      <td>library_water_bottle_0_elvis_152_aug1</td>\n",
       "    </tr>\n",
       "    <tr>\n",
       "      <th>3</th>\n",
       "      <td>439012</td>\n",
       "      <td>450013</td>\n",
       "      <td>library_water_bottle_0_elvis_206_aug1</td>\n",
       "    </tr>\n",
       "    <tr>\n",
       "      <th>4</th>\n",
       "      <td>535584</td>\n",
       "      <td>546568</td>\n",
       "      <td>home_water_bottle_0_elvis_179_aug2</td>\n",
       "    </tr>\n",
       "    <tr>\n",
       "      <th>...</th>\n",
       "      <td>...</td>\n",
       "      <td>...</td>\n",
       "      <td>...</td>\n",
       "    </tr>\n",
       "    <tr>\n",
       "      <th>324</th>\n",
       "      <td>34362056</td>\n",
       "      <td>34368023</td>\n",
       "      <td>home_water_bottle_0_elvis_190_aug2</td>\n",
       "    </tr>\n",
       "    <tr>\n",
       "      <th>325</th>\n",
       "      <td>34464952</td>\n",
       "      <td>34475896</td>\n",
       "      <td>home_water_bottle_0_elvis_127_aug2</td>\n",
       "    </tr>\n",
       "    <tr>\n",
       "      <th>326</th>\n",
       "      <td>34513573</td>\n",
       "      <td>34521615</td>\n",
       "      <td>library_water_bottle_0_elvis_201_aug1</td>\n",
       "    </tr>\n",
       "    <tr>\n",
       "      <th>327</th>\n",
       "      <td>34728409</td>\n",
       "      <td>34738423</td>\n",
       "      <td>home_water_bottle_0_elvis_119_aug2</td>\n",
       "    </tr>\n",
       "    <tr>\n",
       "      <th>328</th>\n",
       "      <td>34803992</td>\n",
       "      <td>34815992</td>\n",
       "      <td>library_water_bottle_0_elvis_155_aug2</td>\n",
       "    </tr>\n",
       "  </tbody>\n",
       "</table>\n",
       "<p>329 rows × 3 columns</p>\n",
       "</div>"
      ],
      "text/plain": [
       "        start       end                            sample_name\n",
       "0        1041     10016  library_water_bottle_0_elvis_162_aug2\n",
       "1      196518    206521     home_water_bottle_0_elvis_111_aug1\n",
       "2      408802    419868  library_water_bottle_0_elvis_152_aug1\n",
       "3      439012    450013  library_water_bottle_0_elvis_206_aug1\n",
       "4      535584    546568     home_water_bottle_0_elvis_179_aug2\n",
       "..        ...       ...                                    ...\n",
       "324  34362056  34368023     home_water_bottle_0_elvis_190_aug2\n",
       "325  34464952  34475896     home_water_bottle_0_elvis_127_aug2\n",
       "326  34513573  34521615  library_water_bottle_0_elvis_201_aug1\n",
       "327  34728409  34738423     home_water_bottle_0_elvis_119_aug2\n",
       "328  34803992  34815992  library_water_bottle_0_elvis_155_aug2\n",
       "\n",
       "[329 rows x 3 columns]"
      ]
     },
     "execution_count": 53,
     "metadata": {},
     "output_type": "execute_result"
    }
   ],
   "source": [
    "event_df"
   ]
  },
  {
   "cell_type": "code",
   "execution_count": 6,
   "metadata": {},
   "outputs": [],
   "source": [
    "# read the final audio file and the event tracker\n",
    "final_audio = AudioSegment.from_file(\"final_audio_with_drinking_events.wav\")\n",
    "event_df = pd.read_csv(\"drinking_event_times.csv\")"
   ]
  },
  {
   "cell_type": "code",
   "execution_count": 7,
   "metadata": {},
   "outputs": [],
   "source": [
    "event_df['start_minute'] = event_df['start'] // 60000\n",
    "event_df['end_minute'] = event_df['end'] // 60000"
   ]
  },
  {
   "cell_type": "code",
   "execution_count": 8,
   "metadata": {},
   "outputs": [],
   "source": [
    "rows = []\n",
    "\n",
    "for _, row in event_df.iterrows():\n",
    "    for minute in range(row['start_minute'], row['end_minute'] + 1):\n",
    "        rows.append({\"minute\": minute, \"water_drinking\": 1})\n",
    "\n",
    "# Create a DataFrame from rows and fill in missing minutes\n",
    "drinking_df = pd.DataFrame(rows).drop_duplicates()\n",
    "\n",
    "# Fill in missing minutes with water_drinking = 0\n",
    "all_minutes = range(drinking_df['minute'].min(), drinking_df['minute'].max() + 1)\n",
    "all_minutes_df = pd.DataFrame({\"minute\": all_minutes})\n",
    "final_df = all_minutes_df.merge(drinking_df, on=\"minute\", how=\"left\")\n",
    "final_df['water_drinking'] = final_df['water_drinking'].fillna(0).astype(int)\n"
   ]
  },
  {
   "cell_type": "code",
   "execution_count": 29,
   "metadata": {},
   "outputs": [
    {
     "data": {
      "text/html": [
       "<div>\n",
       "<style scoped>\n",
       "    .dataframe tbody tr th:only-of-type {\n",
       "        vertical-align: middle;\n",
       "    }\n",
       "\n",
       "    .dataframe tbody tr th {\n",
       "        vertical-align: top;\n",
       "    }\n",
       "\n",
       "    .dataframe thead th {\n",
       "        text-align: right;\n",
       "    }\n",
       "</style>\n",
       "<table border=\"1\" class=\"dataframe\">\n",
       "  <thead>\n",
       "    <tr style=\"text-align: right;\">\n",
       "      <th></th>\n",
       "      <th>minute</th>\n",
       "      <th>water_drinking</th>\n",
       "    </tr>\n",
       "  </thead>\n",
       "  <tbody>\n",
       "    <tr>\n",
       "      <th>0</th>\n",
       "      <td>0</td>\n",
       "      <td>1</td>\n",
       "    </tr>\n",
       "    <tr>\n",
       "      <th>1</th>\n",
       "      <td>1</td>\n",
       "      <td>0</td>\n",
       "    </tr>\n",
       "    <tr>\n",
       "      <th>2</th>\n",
       "      <td>2</td>\n",
       "      <td>0</td>\n",
       "    </tr>\n",
       "    <tr>\n",
       "      <th>3</th>\n",
       "      <td>3</td>\n",
       "      <td>1</td>\n",
       "    </tr>\n",
       "    <tr>\n",
       "      <th>4</th>\n",
       "      <td>4</td>\n",
       "      <td>0</td>\n",
       "    </tr>\n",
       "    <tr>\n",
       "      <th>...</th>\n",
       "      <td>...</td>\n",
       "      <td>...</td>\n",
       "    </tr>\n",
       "    <tr>\n",
       "      <th>581</th>\n",
       "      <td>581</td>\n",
       "      <td>0</td>\n",
       "    </tr>\n",
       "    <tr>\n",
       "      <th>582</th>\n",
       "      <td>582</td>\n",
       "      <td>1</td>\n",
       "    </tr>\n",
       "    <tr>\n",
       "      <th>583</th>\n",
       "      <td>583</td>\n",
       "      <td>1</td>\n",
       "    </tr>\n",
       "    <tr>\n",
       "      <th>584</th>\n",
       "      <td>574</td>\n",
       "      <td>0</td>\n",
       "    </tr>\n",
       "    <tr>\n",
       "      <th>585</th>\n",
       "      <td>575</td>\n",
       "      <td>0</td>\n",
       "    </tr>\n",
       "  </tbody>\n",
       "</table>\n",
       "<p>586 rows × 2 columns</p>\n",
       "</div>"
      ],
      "text/plain": [
       "     minute  water_drinking\n",
       "0         0               1\n",
       "1         1               0\n",
       "2         2               0\n",
       "3         3               1\n",
       "4         4               0\n",
       "..      ...             ...\n",
       "581     581               0\n",
       "582     582               1\n",
       "583     583               1\n",
       "584     574               0\n",
       "585     575               0\n",
       "\n",
       "[586 rows x 2 columns]"
      ]
     },
     "execution_count": 29,
     "metadata": {},
     "output_type": "execute_result"
    }
   ],
   "source": [
    "final_df"
   ]
  },
  {
   "cell_type": "code",
   "execution_count": 21,
   "metadata": {},
   "outputs": [
    {
     "data": {
      "text/plain": [
       "water_drinking\n",
       "0    1803\n",
       "1     530\n",
       "Name: count, dtype: int64"
      ]
     },
     "execution_count": 21,
     "metadata": {},
     "output_type": "execute_result"
    }
   ],
   "source": [
    "# count 0s and 1s\n",
    "final_df['water_drinking'].value_counts()"
   ]
  },
  {
   "cell_type": "code",
   "execution_count": 20,
   "metadata": {},
   "outputs": [
    {
     "data": {
      "text/plain": [
       "35096.9605625"
      ]
     },
     "execution_count": 20,
     "metadata": {},
     "output_type": "execute_result"
    }
   ],
   "source": [
    "final_audio.duration_seconds"
   ]
  },
  {
   "cell_type": "code",
   "execution_count": 12,
   "metadata": {},
   "outputs": [],
   "source": [
    "# append noise to round off to the nearest minute\n",
    "noise_duration_ms = 60000 - (final_audio.duration_seconds * 1000) % 60000"
   ]
  },
  {
   "cell_type": "code",
   "execution_count": 13,
   "metadata": {},
   "outputs": [
    {
     "data": {
      "text/plain": [
       "3039.4375"
      ]
     },
     "execution_count": 13,
     "metadata": {},
     "output_type": "execute_result"
    }
   ],
   "source": [
    "noise_duration_ms"
   ]
  },
  {
   "cell_type": "code",
   "execution_count": 16,
   "metadata": {},
   "outputs": [
    {
     "data": {
      "text/plain": [
       "585.0"
      ]
     },
     "execution_count": 16,
     "metadata": {},
     "output_type": "execute_result"
    }
   ],
   "source": [
    "(final_audio.duration_seconds + noise_duration_ms/1000)/60"
   ]
  },
  {
   "cell_type": "code",
   "execution_count": 31,
   "metadata": {},
   "outputs": [
    {
     "data": {
      "text/html": [
       "<div>\n",
       "<style scoped>\n",
       "    .dataframe tbody tr th:only-of-type {\n",
       "        vertical-align: middle;\n",
       "    }\n",
       "\n",
       "    .dataframe tbody tr th {\n",
       "        vertical-align: top;\n",
       "    }\n",
       "\n",
       "    .dataframe thead th {\n",
       "        text-align: right;\n",
       "    }\n",
       "</style>\n",
       "<table border=\"1\" class=\"dataframe\">\n",
       "  <thead>\n",
       "    <tr style=\"text-align: right;\">\n",
       "      <th></th>\n",
       "      <th>minute</th>\n",
       "      <th>water_drinking</th>\n",
       "    </tr>\n",
       "  </thead>\n",
       "  <tbody>\n",
       "    <tr>\n",
       "      <th>579</th>\n",
       "      <td>579</td>\n",
       "      <td>0</td>\n",
       "    </tr>\n",
       "    <tr>\n",
       "      <th>580</th>\n",
       "      <td>580</td>\n",
       "      <td>1</td>\n",
       "    </tr>\n",
       "    <tr>\n",
       "      <th>581</th>\n",
       "      <td>581</td>\n",
       "      <td>0</td>\n",
       "    </tr>\n",
       "    <tr>\n",
       "      <th>582</th>\n",
       "      <td>582</td>\n",
       "      <td>1</td>\n",
       "    </tr>\n",
       "    <tr>\n",
       "      <th>583</th>\n",
       "      <td>583</td>\n",
       "      <td>1</td>\n",
       "    </tr>\n",
       "  </tbody>\n",
       "</table>\n",
       "</div>"
      ],
      "text/plain": [
       "     minute  water_drinking\n",
       "579     579               0\n",
       "580     580               1\n",
       "581     581               0\n",
       "582     582               1\n",
       "583     583               1"
      ]
     },
     "execution_count": 31,
     "metadata": {},
     "output_type": "execute_result"
    }
   ],
   "source": [
    "final_df.tail()"
   ]
  },
  {
   "cell_type": "code",
   "execution_count": 34,
   "metadata": {},
   "outputs": [
    {
     "name": "stderr",
     "output_type": "stream",
     "text": [
      "c:\\Users\\Jayesh\\AppData\\Local\\Programs\\Python\\Python39\\lib\\site-packages\\numpy\\fft\\_pocketfft.py:70: ComplexWarning: Casting complex values to real discards the imaginary part\n",
      "  r = pfi.execute(a, is_real, is_forward, fct)\n"
     ]
    }
   ],
   "source": [
    "# add noise to the final audio\n",
    "final_audio += generate_random_noise(noise_duration_ms)"
   ]
  },
  {
   "cell_type": "code",
   "execution_count": 35,
   "metadata": {},
   "outputs": [
    {
     "data": {
      "text/plain": [
       "35100.0"
      ]
     },
     "execution_count": 35,
     "metadata": {},
     "output_type": "execute_result"
    }
   ],
   "source": [
    "final_audio.duration_seconds"
   ]
  },
  {
   "cell_type": "code",
   "execution_count": 36,
   "metadata": {},
   "outputs": [
    {
     "data": {
      "text/plain": [
       "<_io.BufferedRandom name='final_audio_with_drinking_events.wav'>"
      ]
     },
     "execution_count": 36,
     "metadata": {},
     "output_type": "execute_result"
    }
   ],
   "source": [
    "# save the final audio\n",
    "final_audio.export(\"final_audio_with_drinking_events.wav\", format=\"wav\")"
   ]
  },
  {
   "cell_type": "code",
   "execution_count": 37,
   "metadata": {},
   "outputs": [],
   "source": [
    "# add a row to the final_df for 584th minute using pd concat\n",
    "final_df = pd.concat([final_df, pd.DataFrame({\"minute\": [584], \"water_drinking\": [0]})], ignore_index=True)"
   ]
  },
  {
   "cell_type": "code",
   "execution_count": 38,
   "metadata": {},
   "outputs": [
    {
     "data": {
      "text/html": [
       "<div>\n",
       "<style scoped>\n",
       "    .dataframe tbody tr th:only-of-type {\n",
       "        vertical-align: middle;\n",
       "    }\n",
       "\n",
       "    .dataframe tbody tr th {\n",
       "        vertical-align: top;\n",
       "    }\n",
       "\n",
       "    .dataframe thead th {\n",
       "        text-align: right;\n",
       "    }\n",
       "</style>\n",
       "<table border=\"1\" class=\"dataframe\">\n",
       "  <thead>\n",
       "    <tr style=\"text-align: right;\">\n",
       "      <th></th>\n",
       "      <th>minute</th>\n",
       "      <th>water_drinking</th>\n",
       "    </tr>\n",
       "  </thead>\n",
       "  <tbody>\n",
       "    <tr>\n",
       "      <th>580</th>\n",
       "      <td>580</td>\n",
       "      <td>1</td>\n",
       "    </tr>\n",
       "    <tr>\n",
       "      <th>581</th>\n",
       "      <td>581</td>\n",
       "      <td>0</td>\n",
       "    </tr>\n",
       "    <tr>\n",
       "      <th>582</th>\n",
       "      <td>582</td>\n",
       "      <td>1</td>\n",
       "    </tr>\n",
       "    <tr>\n",
       "      <th>583</th>\n",
       "      <td>583</td>\n",
       "      <td>1</td>\n",
       "    </tr>\n",
       "    <tr>\n",
       "      <th>584</th>\n",
       "      <td>584</td>\n",
       "      <td>0</td>\n",
       "    </tr>\n",
       "  </tbody>\n",
       "</table>\n",
       "</div>"
      ],
      "text/plain": [
       "     minute  water_drinking\n",
       "580     580               1\n",
       "581     581               0\n",
       "582     582               1\n",
       "583     583               1\n",
       "584     584               0"
      ]
     },
     "execution_count": 38,
     "metadata": {},
     "output_type": "execute_result"
    }
   ],
   "source": [
    "final_df.tail()"
   ]
  },
  {
   "cell_type": "code",
   "execution_count": 40,
   "metadata": {},
   "outputs": [],
   "source": [
    "# duration of the drinking event in the event_df, subtract and divide by 1000 to get seconds\n",
    "event_df['duration'] = (event_df['end'] - event_df['start']) / 1000"
   ]
  },
  {
   "cell_type": "code",
   "execution_count": 42,
   "metadata": {},
   "outputs": [
    {
     "data": {
      "text/plain": [
       "3224.595"
      ]
     },
     "execution_count": 42,
     "metadata": {},
     "output_type": "execute_result"
    }
   ],
   "source": [
    "# sum of the duration of the drinking events\n",
    "event_df['duration'].sum()"
   ]
  },
  {
   "cell_type": "code",
   "execution_count": 43,
   "metadata": {},
   "outputs": [
    {
     "data": {
      "text/plain": [
       "(array([ 6., 21.,  3., 12.,  3., 33.,  3., 57., 15., 42., 15., 42., 18.,\n",
       "        18., 12.,  9.,  0., 12.,  0.,  9.]),\n",
       " array([ 5.067  ,  5.56295,  6.0589 ,  6.55485,  7.0508 ,  7.54675,\n",
       "         8.0427 ,  8.53865,  9.0346 ,  9.53055, 10.0265 , 10.52245,\n",
       "        11.0184 , 11.51435, 12.0103 , 12.50625, 13.0022 , 13.49815,\n",
       "        13.9941 , 14.49005, 14.986  ]),\n",
       " <BarContainer object of 20 artists>)"
      ]
     },
     "execution_count": 43,
     "metadata": {},
     "output_type": "execute_result"
    },
    {
     "data": {
      "image/png": "[encoded data removed]",
      "text/plain": [
       "<Figure size 640x480 with 1 Axes>"
      ]
     },
     "metadata": {},
     "output_type": "display_data"
    }
   ],
   "source": [
    "# plot the duration of the drinking events\n",
    "plt.hist(event_df['duration'], bins=20)"
   ]
  },
  {
   "cell_type": "code",
   "execution_count": 44,
   "metadata": {},
   "outputs": [
    {
     "data": {
      "text/plain": [
       "(9.7715, 2.15600444683494)"
      ]
     },
     "execution_count": 44,
     "metadata": {},
     "output_type": "execute_result"
    }
   ],
   "source": [
    "# find mean and std of the duration of the drinking events\n",
    "event_df['duration'].mean(), event_df['duration'].std()"
   ]
  },
  {
   "cell_type": "code",
   "execution_count": 45,
   "metadata": {},
   "outputs": [],
   "source": [
    "def split_and_label_audio(audio, final_df, sr=16000):\n",
    "    labeled_segments = []\n",
    "\n",
    "    for idx, row in final_df.iterrows():\n",
    "        start_time = row['minute'] * 60 * 1000  # Convert minutes to milliseconds\n",
    "        end_time = start_time + 60 * 1000  # 1 minute later\n",
    "        segment = audio[start_time:end_time]\n",
    "        \n",
    "        label = row['water_drinking']  # 1 for drinking, 0 for not drinking\n",
    "        labeled_segments.append((segment, label))\n",
    "    \n",
    "    return labeled_segments"
   ]
  },
  {
   "cell_type": "code",
   "execution_count": 46,
   "metadata": {},
   "outputs": [],
   "source": [
    "def extract_mfcc(audio_segment, sr=16000, n_mfcc=13):\n",
    "    samples = np.array(audio_segment.get_array_of_samples()).astype(np.float32) / 32768.0\n",
    "    mfcc = librosa.feature.mfcc(y=samples, sr=sr, n_mfcc=n_mfcc)\n",
    "    return mfcc.T  # Transpose to (time, n_mfcc)"
   ]
  },
  {
   "cell_type": "code",
   "execution_count": 47,
   "metadata": {},
   "outputs": [
    {
     "name": "stderr",
     "output_type": "stream",
     "text": [
      "100%|██████████| 585/585 [01:02<00:00,  9.37it/s]\n"
     ]
    }
   ],
   "source": [
    "audio_segments = split_and_label_audio(final_audio, final_df)\n",
    "\n",
    "all_mfccs = []\n",
    "all_labels = []\n",
    "\n",
    "for segment, label in tqdm(audio_segments):\n",
    "    mfcc = extract_mfcc(segment)\n",
    "    all_mfccs.append(mfcc)\n",
    "    all_labels.append(label)\n",
    "\n",
    "# Train-test split\n",
    "X_train, X_test, y_train, y_test = train_test_split(all_mfccs, all_labels, test_size=0.25, random_state=42, stratify=all_labels)\n"
   ]
  },
  {
   "cell_type": "code",
   "execution_count": 50,
   "metadata": {},
   "outputs": [
    {
     "data": {
      "text/plain": [
       "(438, 147)"
      ]
     },
     "execution_count": 50,
     "metadata": {},
     "output_type": "execute_result"
    }
   ],
   "source": [
    "len(X_train), len(X_test)"
   ]
  },
  {
   "cell_type": "code",
   "execution_count": 48,
   "metadata": {},
   "outputs": [],
   "source": [
    "from torch.utils.data import Dataset, DataLoader\n",
    "import torch\n",
    "\n",
    "class AudioDataset(Dataset):\n",
    "    def __init__(self, X, y):\n",
    "        self.X = X\n",
    "        self.y = y\n",
    "\n",
    "    def __len__(self):\n",
    "        return len(self.X)\n",
    "\n",
    "    def __getitem__(self, idx):\n",
    "        mfcc = self.X[idx]\n",
    "        label = self.y[idx]\n",
    "        mfcc = np.expand_dims(mfcc, axis=0)  # Add channel dimension\n",
    "        return torch.tensor(mfcc, dtype=torch.float32), torch.tensor(label, dtype=torch.long)\n",
    "\n",
    "train_dataset = AudioDataset(X_train, y_train)\n",
    "test_dataset = AudioDataset(X_test, y_test)\n",
    "\n",
    "train_loader = DataLoader(train_dataset, batch_size=32, shuffle=True)\n",
    "test_loader = DataLoader(test_dataset, batch_size=32, shuffle=False)\n"
   ]
  },
  {
   "cell_type": "code",
   "execution_count": 87,
   "metadata": {},
   "outputs": [
    {
     "data": {
      "text/plain": [
       "torch.Size([1, 1876, 13])"
      ]
     },
     "execution_count": 87,
     "metadata": {},
     "output_type": "execute_result"
    }
   ],
   "source": [
    "train_dataset[0][0].shape"
   ]
  },
  {
   "cell_type": "code",
   "execution_count": 68,
   "metadata": {},
   "outputs": [],
   "source": [
    "# Define the CNN model\n",
    "class AudioClassifierCNN(nn.Module):\n",
    "    def __init__(self):\n",
    "        super(AudioClassifierCNN, self).__init__()\n",
    "        # Convolutional layers\n",
    "        self.conv1 = nn.Conv2d(1, 16, kernel_size=3, stride=1, padding=1)\n",
    "        self.bn1 = nn.BatchNorm2d(16)\n",
    "        self.pool = nn.MaxPool2d(kernel_size=2, stride=2)\n",
    "\n",
    "        self.conv2 = nn.Conv2d(16, 32, kernel_size=3, stride=1, padding=1)\n",
    "        self.bn2 = nn.BatchNorm2d(32)\n",
    "\n",
    "        self.conv3 = nn.Conv2d(32, 64, kernel_size=3, stride=1, padding=1)\n",
    "        self.bn3 = nn.BatchNorm2d(64)\n",
    "\n",
    "        # Initialize the fully connected layer size dynamically\n",
    "        self.fc1 = nn.Linear(self._get_conv_output_size(), 128)\n",
    "        self.fc2 = nn.Linear(128, 2)  # Assuming binary classification\n",
    "\n",
    "    def _get_conv_output_size(self):\n",
    "        # Create a dummy input to calculate the size after convolution layers\n",
    "        dummy_input = torch.zeros(1, 1, 3751, 13)  # Sample input shape\n",
    "        x = self.pool(F.relu(self.bn1(self.conv1(dummy_input))))\n",
    "        x = self.pool(F.relu(self.bn2(self.conv2(x))))\n",
    "        x = self.pool(F.relu(self.bn3(self.conv3(x))))\n",
    "        return int(torch.prod(torch.tensor(x.size()[1:])))\n",
    "\n",
    "    def forward(self, x):\n",
    "        # Apply convolutional layers with ReLU activations and max pooling\n",
    "        x = self.pool(F.relu(self.bn1(self.conv1(x))))\n",
    "        x = self.pool(F.relu(self.bn2(self.conv2(x))))\n",
    "        x = self.pool(F.relu(self.bn3(self.conv3(x))))\n",
    "\n",
    "        # Flatten the input dynamically\n",
    "        x = x.view(x.size(0), -1)\n",
    "\n",
    "        # Apply fully connected layers\n",
    "        x = F.relu(self.fc1(x))\n",
    "        x = self.fc2(x)  # No activation for output (CrossEntropyLoss will be applied later)\n",
    "\n",
    "        return x\n",
    "\n",
    "\n",
    "# Create the model instance\n",
    "model = AudioClassifierCNN()\n"
   ]
  },
  {
   "cell_type": "code",
   "execution_count": 69,
   "metadata": {},
   "outputs": [],
   "source": [
    "# Define loss function (Cross-Entropy Loss for classification)\n",
    "criterion = nn.CrossEntropyLoss()\n",
    "\n",
    "# Define optimizer (Adam optimizer)\n",
    "optimizer = optim.Adam(model.parameters(), lr=0.001)"
   ]
  },
  {
   "cell_type": "code",
   "execution_count": 70,
   "metadata": {},
   "outputs": [
    {
     "name": "stdout",
     "output_type": "stream",
     "text": [
      "Epoch [1/25], Loss: 5.3207, Accuracy: 54.11%\n",
      "Epoch [2/25], Loss: 1.1060, Accuracy: 53.88%\n",
      "Epoch [3/25], Loss: 0.7270, Accuracy: 55.71%\n",
      "Epoch [4/25], Loss: 0.6679, Accuracy: 62.56%\n",
      "Epoch [5/25], Loss: 0.6048, Accuracy: 66.21%\n",
      "Epoch [6/25], Loss: 0.5897, Accuracy: 69.63%\n",
      "Epoch [7/25], Loss: 0.5407, Accuracy: 73.06%\n",
      "Epoch [8/25], Loss: 0.6048, Accuracy: 67.81%\n",
      "Epoch [9/25], Loss: 0.5310, Accuracy: 71.00%\n",
      "Epoch [10/25], Loss: 0.4725, Accuracy: 76.71%\n",
      "Epoch [11/25], Loss: 0.5000, Accuracy: 74.43%\n",
      "Epoch [12/25], Loss: 0.4678, Accuracy: 78.08%\n",
      "Epoch [13/25], Loss: 0.3908, Accuracy: 82.42%\n",
      "Epoch [14/25], Loss: 0.3744, Accuracy: 81.96%\n",
      "Epoch [15/25], Loss: 0.3222, Accuracy: 86.53%\n",
      "Epoch [16/25], Loss: 0.2594, Accuracy: 90.41%\n",
      "Epoch [17/25], Loss: 0.2766, Accuracy: 89.50%\n",
      "Epoch [18/25], Loss: 0.2612, Accuracy: 88.36%\n",
      "Epoch [19/25], Loss: 0.1997, Accuracy: 91.55%\n",
      "Epoch [20/25], Loss: 0.1448, Accuracy: 94.75%\n",
      "Epoch [21/25], Loss: 0.1053, Accuracy: 97.72%\n",
      "Epoch [22/25], Loss: 0.0665, Accuracy: 99.09%\n",
      "Epoch [23/25], Loss: 0.0457, Accuracy: 99.32%\n",
      "Epoch [24/25], Loss: 0.0338, Accuracy: 100.00%\n",
      "Epoch [25/25], Loss: 0.0184, Accuracy: 100.00%\n"
     ]
    },
    {
     "data": {
      "image/png": "[encoded data removed]",
      "text/plain": [
       "<Figure size 1200x500 with 2 Axes>"
      ]
     },
     "metadata": {},
     "output_type": "display_data"
    }
   ],
   "source": [
    "# Number of epochs and batch size\n",
    "num_epochs = 25\n",
    "\n",
    "# Move the model to GPU if available\n",
    "device = torch.device(\"cuda\" if torch.cuda.is_available() else \"cpu\")\n",
    "model = model.to(device)\n",
    "\n",
    "# Lists to store the loss and accuracy values for plotting\n",
    "train_loss_history = []\n",
    "train_accuracy_history = []\n",
    "\n",
    "# Training loop\n",
    "for epoch in range(num_epochs):\n",
    "    model.train()\n",
    "    running_loss = 0.0\n",
    "    correct = 0\n",
    "    total = 0\n",
    "    \n",
    "    for i, (inputs, labels) in enumerate(train_loader):\n",
    "        inputs, labels = inputs.to(device), labels.to(device)\n",
    "        \n",
    "        # Zero the parameter gradients\n",
    "        optimizer.zero_grad()\n",
    "        \n",
    "        # Forward pass\n",
    "        outputs = model(inputs)\n",
    "        loss = criterion(outputs, labels)\n",
    "        \n",
    "        # Backward pass and optimization\n",
    "        loss.backward()\n",
    "        optimizer.step()\n",
    "        \n",
    "        # Statistics\n",
    "        running_loss += loss.item()\n",
    "        _, predicted = torch.max(outputs, 1)\n",
    "        total += labels.size(0)\n",
    "        correct += (predicted == labels).sum().item()\n",
    "    \n",
    "    # Compute loss and accuracy for the epoch\n",
    "    epoch_loss = running_loss / len(train_loader)\n",
    "    epoch_accuracy = 100 * correct / total\n",
    "\n",
    "    # Store the values for plotting\n",
    "    train_loss_history.append(epoch_loss)\n",
    "    train_accuracy_history.append(epoch_accuracy)\n",
    "    \n",
    "    # Print epoch stats\n",
    "    print(f\"Epoch [{epoch + 1}/{num_epochs}], Loss: {epoch_loss:.4f}, Accuracy: {epoch_accuracy:.2f}%\")\n",
    "\n",
    "# Plotting the Loss and Accuracy over epochs\n",
    "plt.figure(figsize=(12, 5))\n",
    "\n",
    "# Plot Loss\n",
    "plt.subplot(1, 2, 1)\n",
    "plt.plot(range(1, num_epochs+1), train_loss_history, marker='o', label='Training Loss')\n",
    "plt.title('Loss over Epochs')\n",
    "plt.xlabel('Epoch')\n",
    "plt.ylabel('Loss')\n",
    "plt.legend()\n",
    "\n",
    "# Plot Accuracy\n",
    "plt.subplot(1, 2, 2)\n",
    "plt.plot(range(1, num_epochs+1), train_accuracy_history, marker='o', label='Training Accuracy')\n",
    "plt.title('Accuracy over Epochs')\n",
    "plt.xlabel('Epoch')\n",
    "plt.ylabel('Accuracy (%)')\n",
    "plt.legend()\n",
    "\n",
    "# Show the plots\n",
    "plt.tight_layout()\n",
    "plt.show()\n"
   ]
  },
  {
   "cell_type": "code",
   "execution_count": 71,
   "metadata": {},
   "outputs": [
    {
     "name": "stdout",
     "output_type": "stream",
     "text": [
      "Test Accuracy: 49.65986394557823%\n",
      "Confusion Matrix:\n",
      "[[35 38]\n",
      " [36 38]]\n"
     ]
    }
   ],
   "source": [
    "# Initialize empty lists to store true and predicted labels\n",
    "all_labels = []\n",
    "all_predictions = []\n",
    "\n",
    "model.eval()  # Set model to evaluation mode (no gradients)\n",
    "correct = 0\n",
    "total = 0\n",
    "\n",
    "with torch.no_grad():  # No need to compute gradients\n",
    "    for inputs, labels in test_loader:\n",
    "        inputs, labels = inputs.to(device), labels.to(device)\n",
    "        outputs = model(inputs)\n",
    "        _, predicted = torch.max(outputs.data, 1)\n",
    "\n",
    "        # Accumulate total correct predictions\n",
    "        total += labels.size(0)\n",
    "        correct += (predicted == labels).sum().item()\n",
    "\n",
    "        # Store predictions and true labels for confusion matrix\n",
    "        all_labels.extend(labels.cpu().numpy())\n",
    "        all_predictions.extend(predicted.cpu().numpy())\n",
    "\n",
    "# Compute test accuracy\n",
    "accuracy = 100 * correct / total\n",
    "print(f\"Test Accuracy: {accuracy}%\")\n",
    "\n",
    "# Compute confusion matrix\n",
    "conf_matrix = confusion_matrix(all_labels, all_predictions)\n",
    "\n",
    "# Print the confusion matrix\n",
    "print(\"Confusion Matrix:\")\n",
    "print(conf_matrix)"
   ]
  },
  {
   "cell_type": "code",
   "execution_count": 7,
   "metadata": {},
   "outputs": [],
   "source": [
    "# Calculate half-minute intervals\n",
    "event_df['start_onefourth_minute'] = event_df['start'] // 15000\n",
    "event_df['end_onefourth_minute'] = event_df['end'] // 15000"
   ]
  },
  {
   "cell_type": "code",
   "execution_count": 140,
   "metadata": {},
   "outputs": [],
   "source": [
    "# rows = []\n",
    "\n",
    "# for _, row in event_df.iterrows():\n",
    "#     for half_minute in range(row['start_half_minute'], row['end_half_minute'] + 1):\n",
    "#         rows.append({\"half_minute\": half_minute, \"water_drinking\": 1})\n",
    "\n",
    "# # Create a DataFrame from rows and fill in missing half-minute intervals\n",
    "# drinking_df = pd.DataFrame(rows).drop_duplicates()\n",
    "\n",
    "# # Fill in missing half-minute intervals with water_drinking = 0\n",
    "# all_half_minutes = range(drinking_df['half_minute'].min(), drinking_df['half_minute'].max() + 1)\n",
    "# all_half_minutes_df = pd.DataFrame({\"half_minute\": all_half_minutes})\n",
    "# final_df = all_half_minutes_df.merge(drinking_df, on=\"half_minute\", how=\"left\")\n",
    "# final_df['water_drinking'] = final_df['water_drinking'].fillna(0).astype(int)"
   ]
  },
  {
   "cell_type": "code",
   "execution_count": 8,
   "metadata": {},
   "outputs": [],
   "source": [
    "rows = []\n",
    "\n",
    "for _, row in event_df.iterrows():\n",
    "    for onefourth_minute in range(row['start_onefourth_minute'], row['end_onefourth_minute'] + 1):\n",
    "        rows.append({\"onefourth_minute\": onefourth_minute, \"water_drinking\": 1})\n",
    "\n",
    "# Create a DataFrame from rows and remove duplicates\n",
    "drinking_df = pd.DataFrame(rows).drop_duplicates()\n",
    "\n",
    "# Fill in missing quarter-minute intervals with water_drinking = 0\n",
    "all_onefourth_minutes = range(drinking_df['onefourth_minute'].min(), drinking_df['onefourth_minute'].max() + 1)\n",
    "all_onefourth_minutes_df = pd.DataFrame({\"onefourth_minute\": all_onefourth_minutes})\n",
    "final_df = all_onefourth_minutes_df.merge(drinking_df, on=\"onefourth_minute\", how=\"left\")\n",
    "final_df['water_drinking'] = final_df['water_drinking'].fillna(0).astype(int)"
   ]
  },
  {
   "cell_type": "code",
   "execution_count": 9,
   "metadata": {},
   "outputs": [
    {
     "data": {
      "text/html": [
       "<div>\n",
       "<style scoped>\n",
       "    .dataframe tbody tr th:only-of-type {\n",
       "        vertical-align: middle;\n",
       "    }\n",
       "\n",
       "    .dataframe tbody tr th {\n",
       "        vertical-align: top;\n",
       "    }\n",
       "\n",
       "    .dataframe thead th {\n",
       "        text-align: right;\n",
       "    }\n",
       "</style>\n",
       "<table border=\"1\" class=\"dataframe\">\n",
       "  <thead>\n",
       "    <tr style=\"text-align: right;\">\n",
       "      <th></th>\n",
       "      <th>onefourth_minute</th>\n",
       "      <th>water_drinking</th>\n",
       "    </tr>\n",
       "  </thead>\n",
       "  <tbody>\n",
       "    <tr>\n",
       "      <th>0</th>\n",
       "      <td>0</td>\n",
       "      <td>1</td>\n",
       "    </tr>\n",
       "    <tr>\n",
       "      <th>1</th>\n",
       "      <td>1</td>\n",
       "      <td>0</td>\n",
       "    </tr>\n",
       "    <tr>\n",
       "      <th>2</th>\n",
       "      <td>2</td>\n",
       "      <td>0</td>\n",
       "    </tr>\n",
       "    <tr>\n",
       "      <th>3</th>\n",
       "      <td>3</td>\n",
       "      <td>0</td>\n",
       "    </tr>\n",
       "    <tr>\n",
       "      <th>4</th>\n",
       "      <td>4</td>\n",
       "      <td>0</td>\n",
       "    </tr>\n",
       "  </tbody>\n",
       "</table>\n",
       "</div>"
      ],
      "text/plain": [
       "   onefourth_minute  water_drinking\n",
       "0                 0               1\n",
       "1                 1               0\n",
       "2                 2               0\n",
       "3                 3               0\n",
       "4                 4               0"
      ]
     },
     "execution_count": 9,
     "metadata": {},
     "output_type": "execute_result"
    }
   ],
   "source": [
    "final_df.head()"
   ]
  },
  {
   "cell_type": "code",
   "execution_count": 79,
   "metadata": {},
   "outputs": [],
   "source": [
    "def split_and_label_audio(audio, final_df, sr=16000):\n",
    "    labeled_segments = []\n",
    "\n",
    "    for idx, row in final_df.iterrows():\n",
    "        # Convert half-minutes to milliseconds\n",
    "        start_time = row['half_minute'] * 30 * 1000  \n",
    "        end_time = start_time + 30 * 1000  # 30 seconds later\n",
    "        segment = audio[start_time:end_time]\n",
    "        \n",
    "        label = row['water_drinking']  # 1 for drinking, 0 for not drinking\n",
    "        labeled_segments.append((segment, label))\n",
    "    \n",
    "    return labeled_segments"
   ]
  },
  {
   "cell_type": "code",
   "execution_count": 11,
   "metadata": {},
   "outputs": [],
   "source": [
    "def split_and_label_audio(audio, final_df, sr=16000, window_size=45, overlap=15):\n",
    "    labeled_segments = []\n",
    "    step = window_size - overlap  # Compute step size based on overlap\n",
    "\n",
    "    for i, row in final_df.iterrows():\n",
    "        start_time = row['half_minute'] * 30 * 1000  # Convert to milliseconds\n",
    "        while start_time < (row['half_minute'] + 1) * 30 * 1000:\n",
    "            end_time = start_time + window_size * 1000\n",
    "            segment = audio[start_time:end_time]\n",
    "            label = row['water_drinking']\n",
    "            labeled_segments.append((segment, label))\n",
    "            start_time += step * 1000  # Move to the next overlapping window\n",
    "\n",
    "    return labeled_segments"
   ]
  },
  {
   "cell_type": "code",
   "execution_count": 49,
   "metadata": {},
   "outputs": [],
   "source": [
    "def split_and_label_audio(audio, final_df, sr=16000, window_size=30, overlap=15):\n",
    "    labeled_segments = []\n",
    "    step = window_size - overlap  # Compute step size based on overlap\n",
    "    \n",
    "    for idx, row in final_df.iterrows():\n",
    "        # Convert 'onefourth_minute' to milliseconds\n",
    "        start_time = row['onefourth_minute'] * 15 * 1000  # Convert quarter minute to milliseconds\n",
    "        end_time = start_time + window_size * 1000         # 30 seconds later\n",
    "        \n",
    "        # Check if the drinking event is in the current row or the next row\n",
    "        if row['water_drinking'] == 1:\n",
    "            label = 1\n",
    "        elif idx + 1 < len(final_df) and final_df.iloc[idx + 1]['water_drinking'] == 1:\n",
    "            label = 1\n",
    "        else:\n",
    "            label = 0\n",
    "        \n",
    "        # Extract the audio segment based on calculated start and end times\n",
    "        segment = audio[start_time:end_time]\n",
    "        \n",
    "        # Append the segment and its label\n",
    "        labeled_segments.append((segment, label))\n",
    "        \n",
    "        # Move to the next window with overlap\n",
    "        start_time += step * 1000  # Move by step size in milliseconds\n",
    "        end_time = start_time + window_size * 1000  # Update end time\n",
    "\n",
    "    return labeled_segments"
   ]
  },
  {
   "cell_type": "code",
   "execution_count": 47,
   "metadata": {},
   "outputs": [],
   "source": [
    "def split_and_label_audio(audio, final_df, sr=16000, window_size=45, overlap=15):\n",
    "    labeled_segments = []\n",
    "    step = window_size - overlap  # Compute step size based on overlap\n",
    "    \n",
    "    start_time = 0  # Start time in milliseconds\n",
    "    while start_time < audio.duration_seconds*1000:  # Ensure we don't exceed the audio length\n",
    "        end_time = start_time + window_size * 1000  # Calculate end time in milliseconds\n",
    "        \n",
    "        # Check if the current window overlaps with any drinking event\n",
    "        label = 0\n",
    "        for _, row in final_df.iterrows():\n",
    "            event_start = row['onefourth_minute'] * 15 * 1000\n",
    "            event_end = event_start + 15 * 1000  # Each onefourth_minute is 15 seconds\n",
    "            if event_start < end_time and event_end > start_time:  # Overlap condition\n",
    "                label = max(label, row['water_drinking'])  # Set label to 1 if any overlap\n",
    "        \n",
    "        # Extract the audio segment\n",
    "        if start_time - end_time == 45000:\n",
    "            print(\"YES\")\n",
    "            segment = audio[int(start_time):int(end_time)]\n",
    "            labeled_segments.append((segment, label))\n",
    "        \n",
    "        # Move to the next window with the specified step\n",
    "        start_time += step * 1000  # Increment start time by step size\n",
    "        print(start_time, end_time)\n",
    "    return labeled_segments"
   ]
  },
  {
   "cell_type": "code",
   "execution_count": 50,
   "metadata": {},
   "outputs": [],
   "source": [
    "def extract_mfcc(audio_segment, sr=16000, n_mfcc=13):\n",
    "    samples = np.array(audio_segment.get_array_of_samples()).astype(np.float32) / 32768.0\n",
    "    mfcc = librosa.feature.mfcc(y=samples, sr=sr, n_mfcc=n_mfcc)\n",
    "    return mfcc.T  # Transpose to (time, n_mfcc)\n"
   ]
  },
  {
   "cell_type": "code",
   "execution_count": 51,
   "metadata": {},
   "outputs": [
    {
     "name": "stderr",
     "output_type": "stream",
     "text": [
      "100%|██████████| 2333/2333 [02:52<00:00, 13.50it/s]\n"
     ]
    }
   ],
   "source": [
    "audio_segments = split_and_label_audio(final_audio, final_df)\n",
    "\n",
    "all_mfccs = []\n",
    "all_labels = []\n",
    "\n",
    "for segment, label in tqdm(audio_segments):\n",
    "    mfcc = extract_mfcc(segment)\n",
    "    all_mfccs.append(mfcc)\n",
    "    all_labels.append(label)\n",
    "\n",
    "# Train-test split\n",
    "X_train, X_test, y_train, y_test = train_test_split(all_mfccs, all_labels, test_size=0.25, random_state=42, stratify=all_labels)"
   ]
  },
  {
   "cell_type": "code",
   "execution_count": 64,
   "metadata": {},
   "outputs": [
    {
     "data": {
      "text/plain": [
       "(1749, 584)"
      ]
     },
     "execution_count": 64,
     "metadata": {},
     "output_type": "execute_result"
    }
   ],
   "source": [
    "len(X_train), len(X_test)"
   ]
  },
  {
   "cell_type": "code",
   "execution_count": 65,
   "metadata": {},
   "outputs": [],
   "source": [
    "from torch.utils.data import Dataset, DataLoader\n",
    "import torch\n",
    "\n",
    "class AudioDataset(Dataset):\n",
    "    def __init__(self, X, y):\n",
    "        self.X = X\n",
    "        self.y = y\n",
    "\n",
    "    def __len__(self):\n",
    "        return len(self.X)\n",
    "\n",
    "    def __getitem__(self, idx):\n",
    "        mfcc = self.X[idx]\n",
    "        label = self.y[idx]\n",
    "        mfcc = np.expand_dims(mfcc, axis=0)  # Add channel dimension\n",
    "        return torch.tensor(mfcc, dtype=torch.float32), torch.tensor(label, dtype=torch.long)\n",
    "\n",
    "train_dataset = AudioDataset(X_train, y_train)\n",
    "test_dataset = AudioDataset(X_test, y_test)\n",
    "\n",
    "train_loader = DataLoader(train_dataset, batch_size=32, shuffle=True)\n",
    "test_loader = DataLoader(test_dataset, batch_size=32, shuffle=False)\n"
   ]
  },
  {
   "cell_type": "code",
   "execution_count": 66,
   "metadata": {},
   "outputs": [
    {
     "data": {
      "text/plain": [
       "torch.Size([1, 1876, 13])"
      ]
     },
     "execution_count": 66,
     "metadata": {},
     "output_type": "execute_result"
    }
   ],
   "source": [
    "train_dataset[0][0].shape"
   ]
  },
  {
   "cell_type": "code",
   "execution_count": 58,
   "metadata": {},
   "outputs": [],
   "source": [
    "class DeepAudioClassifierCNN(nn.Module):\n",
    "    def __init__(self):\n",
    "        super(DeepAudioClassifierCNN, self).__init__()\n",
    "        # First Convolutional Block\n",
    "        self.conv1 = nn.Conv2d(1, 32, kernel_size=3, stride=1, padding=1)\n",
    "        self.bn1 = nn.BatchNorm2d(32)\n",
    "        self.conv2 = nn.Conv2d(32, 32, kernel_size=3, stride=1, padding=1)\n",
    "        self.bn2 = nn.BatchNorm2d(32)\n",
    "        self.pool = nn.MaxPool2d(kernel_size=2, stride=2)\n",
    "        self.dropout1 = nn.Dropout2d(0.3)  # Regularization\n",
    "        \n",
    "        # Second Convolutional Block with Residual Connection\n",
    "        self.conv3 = nn.Conv2d(32, 64, kernel_size=3, stride=1, padding=1)\n",
    "        self.bn3 = nn.BatchNorm2d(64)\n",
    "        self.conv4 = nn.Conv2d(64, 64, kernel_size=3, stride=1, padding=1)\n",
    "        self.bn4 = nn.BatchNorm2d(64)\n",
    "        self.conv1x1_1 = nn.Conv2d(32, 64, kernel_size=1)  # Match residual channels\n",
    "        self.dropout2 = nn.Dropout2d(0.3)\n",
    "        \n",
    "        # Third Convolutional Block with Residual Connection\n",
    "        self.conv5 = nn.Conv2d(64, 128, kernel_size=3, stride=1, padding=1)\n",
    "        self.bn5 = nn.BatchNorm2d(128)\n",
    "        self.conv6 = nn.Conv2d(128, 128, kernel_size=3, stride=1, padding=1)\n",
    "        self.bn6 = nn.BatchNorm2d(128)\n",
    "        self.conv1x1_2 = nn.Conv2d(64, 128, kernel_size=1)  # Match residual channels\n",
    "        self.dropout3 = nn.Dropout2d(0.3)\n",
    "\n",
    "        # Fully Connected Layers\n",
    "        self.fc1 = nn.Linear(self._get_conv_output_size(), 256)\n",
    "        self.fc2 = nn.Linear(256, 64)\n",
    "        self.fc3 = nn.Linear(64, 2)  # Binary classification\n",
    "\n",
    "    def _get_conv_output_size(self):\n",
    "        # Create a dummy input to calculate the size after convolution layers\n",
    "        dummy_input = torch.zeros(1, 1, 1876, 13)  # Adjust according to your MFCC input\n",
    "        x = self.pool(F.relu(self.bn1(self.conv1(dummy_input))))\n",
    "        x = self.pool(F.relu(self.bn3(self.conv3(x))))  # Apply until last conv layer\n",
    "        x = self.pool(F.relu(self.bn5(self.conv5(x))))\n",
    "        return int(torch.prod(torch.tensor(x.size()[1:])))\n",
    "    \n",
    "    def forward(self, x):\n",
    "        # First Convolutional Block\n",
    "        x = F.relu(self.bn1(self.conv1(x)))\n",
    "        x = F.relu(self.bn2(self.conv2(x)))\n",
    "        x = self.pool(x)\n",
    "        x = self.dropout1(x)\n",
    "\n",
    "        # Second Convolutional Block with Residual Connection\n",
    "        residual = self.conv1x1_1(x)  # Adjust residual channels to match conv output\n",
    "        x = F.relu(self.bn3(self.conv3(x)))\n",
    "        x = F.relu(self.bn4(self.conv4(x)))\n",
    "        x = x + residual  # Replace in-place addition\n",
    "        x = self.pool(x)\n",
    "        x = self.dropout2(x)\n",
    "\n",
    "        # Third Convolutional Block with Residual Connection\n",
    "        residual = self.conv1x1_2(x)  # Adjust residual channels to match conv output\n",
    "        x = F.relu(self.bn5(self.conv5(x)))\n",
    "        x = F.relu(self.bn6(self.conv6(x)))\n",
    "        x = x + residual  # Replace in-place addition\n",
    "        x = self.pool(x)\n",
    "        x = self.dropout3(x)\n",
    "\n",
    "        # Flatten for Fully Connected Layers\n",
    "        x = x.view(x.size(0), -1)\n",
    "\n",
    "        # Fully Connected Layers\n",
    "        x = F.relu(self.fc1(x))\n",
    "        x = F.relu(self.fc2(x))\n",
    "        x = self.fc3(x)  # No activation for output, use CrossEntropyLoss\n",
    "\n",
    "        return x\n",
    "\n",
    "# Create the model instance\n",
    "model = DeepAudioClassifierCNN()\n"
   ]
  },
  {
   "cell_type": "code",
   "execution_count": 59,
   "metadata": {},
   "outputs": [],
   "source": [
    "# Define loss function (Cross-Entropy Loss for classification)\n",
    "criterion = nn.CrossEntropyLoss()\n",
    "\n",
    "# Define optimizer (Adam optimizer)\n",
    "optimizer = optim.Adam(model.parameters(), lr=0.001)"
   ]
  },
  {
   "cell_type": "code",
   "execution_count": 60,
   "metadata": {},
   "outputs": [
    {
     "name": "stdout",
     "output_type": "stream",
     "text": [
      "Epoch [1/30], Loss: 1.3557, Accuracy: 62.04%\n",
      "Epoch [2/30], Loss: 0.6267, Accuracy: 67.41%\n",
      "Epoch [3/30], Loss: 0.5707, Accuracy: 70.67%\n",
      "Epoch [4/30], Loss: 0.5183, Accuracy: 74.96%\n",
      "Epoch [5/30], Loss: 0.5085, Accuracy: 75.99%\n",
      "Epoch [6/30], Loss: 0.4794, Accuracy: 76.84%\n",
      "Epoch [7/30], Loss: 0.4422, Accuracy: 79.82%\n",
      "Epoch [8/30], Loss: 0.4501, Accuracy: 80.33%\n",
      "Epoch [9/30], Loss: 0.4151, Accuracy: 80.73%\n",
      "Epoch [10/30], Loss: 0.4221, Accuracy: 81.02%\n",
      "Epoch [11/30], Loss: 0.4154, Accuracy: 81.02%\n",
      "Epoch [12/30], Loss: 0.4049, Accuracy: 82.62%\n",
      "Epoch [13/30], Loss: 0.3753, Accuracy: 83.19%\n",
      "Epoch [14/30], Loss: 0.3586, Accuracy: 83.70%\n",
      "Epoch [15/30], Loss: 0.3358, Accuracy: 85.53%\n",
      "Epoch [16/30], Loss: 0.3008, Accuracy: 87.54%\n",
      "Epoch [17/30], Loss: 0.2719, Accuracy: 88.62%\n",
      "Epoch [18/30], Loss: 0.2833, Accuracy: 88.45%\n",
      "Epoch [19/30], Loss: 0.2167, Accuracy: 92.00%\n",
      "Epoch [20/30], Loss: 0.2199, Accuracy: 91.65%\n",
      "Epoch [21/30], Loss: 0.1977, Accuracy: 92.34%\n",
      "Epoch [22/30], Loss: 0.1682, Accuracy: 92.91%\n",
      "Epoch [23/30], Loss: 0.1441, Accuracy: 94.11%\n",
      "Epoch [24/30], Loss: 0.1357, Accuracy: 94.63%\n",
      "Epoch [25/30], Loss: 0.1131, Accuracy: 96.17%\n",
      "Epoch [26/30], Loss: 0.1438, Accuracy: 94.80%\n",
      "Epoch [27/30], Loss: 0.0855, Accuracy: 97.14%\n",
      "Epoch [28/30], Loss: 0.0933, Accuracy: 97.03%\n",
      "Epoch [29/30], Loss: 0.0984, Accuracy: 96.11%\n",
      "Epoch [30/30], Loss: 0.0796, Accuracy: 97.60%\n"
     ]
    },
    {
     "data": {
      "image/png": "[encoded data removed]",
      "text/plain": [
       "<Figure size 1200x500 with 2 Axes>"
      ]
     },
     "metadata": {},
     "output_type": "display_data"
    }
   ],
   "source": [
    "# Number of epochs and batch size\n",
    "num_epochs = 30\n",
    "\n",
    "# Move the model to GPU if available\n",
    "device = torch.device(\"cuda\" if torch.cuda.is_available() else \"cpu\")\n",
    "model = model.to(device)\n",
    "\n",
    "# Lists to store the loss and accuracy values for plotting\n",
    "train_loss_history = []\n",
    "train_accuracy_history = []\n",
    "\n",
    "# Training loop\n",
    "for epoch in range(num_epochs):\n",
    "    model.train()\n",
    "    running_loss = 0.0\n",
    "    correct = 0\n",
    "    total = 0\n",
    "    \n",
    "    for i, (inputs, labels) in enumerate(train_loader):\n",
    "        inputs, labels = inputs.to(device), labels.to(device)\n",
    "        \n",
    "        # Zero the parameter gradients\n",
    "        optimizer.zero_grad()\n",
    "        \n",
    "        # Forward pass\n",
    "        outputs = model(inputs)\n",
    "        loss = criterion(outputs, labels)\n",
    "        \n",
    "        # Backward pass and optimization\n",
    "        loss.backward()\n",
    "        optimizer.step()\n",
    "        \n",
    "        # Statistics\n",
    "        running_loss += loss.item()\n",
    "        _, predicted = torch.max(outputs, 1)\n",
    "        total += labels.size(0)\n",
    "        correct += (predicted == labels).sum().item()\n",
    "    \n",
    "    # Compute loss and accuracy for the epoch\n",
    "    epoch_loss = running_loss / len(train_loader)\n",
    "    epoch_accuracy = 100 * correct / total\n",
    "\n",
    "    # Store the values for plotting\n",
    "    train_loss_history.append(epoch_loss)\n",
    "    train_accuracy_history.append(epoch_accuracy)\n",
    "    \n",
    "    # Print epoch stats\n",
    "    print(f\"Epoch [{epoch + 1}/{num_epochs}], Loss: {epoch_loss:.4f}, Accuracy: {epoch_accuracy:.2f}%\")\n",
    "\n",
    "# Plotting the Loss and Accuracy over epochs\n",
    "plt.figure(figsize=(12, 5))\n",
    "\n",
    "# Plot Loss\n",
    "plt.subplot(1, 2, 1)\n",
    "plt.plot(range(1, num_epochs+1), train_loss_history, marker='o', label='Training Loss')\n",
    "plt.title('Loss over Epochs')\n",
    "plt.xlabel('Epoch')\n",
    "plt.ylabel('Loss')\n",
    "plt.legend()\n",
    "\n",
    "# Plot Accuracy\n",
    "plt.subplot(1, 2, 2)\n",
    "plt.plot(range(1, num_epochs+1), train_accuracy_history, marker='o', label='Training Accuracy')\n",
    "plt.title('Accuracy over Epochs')\n",
    "plt.xlabel('Epoch')\n",
    "plt.ylabel('Accuracy (%)')\n",
    "plt.legend()\n",
    "\n",
    "# Show the plots\n",
    "plt.tight_layout()\n",
    "plt.show()\n"
   ]
  },
  {
   "cell_type": "code",
   "execution_count": 61,
   "metadata": {},
   "outputs": [
    {
     "name": "stdout",
     "output_type": "stream",
     "text": [
      "Test Accuracy: 85.27397260273973%\n",
      "Confusion Matrix:\n",
      "[[341  52]\n",
      " [ 34 157]]\n"
     ]
    }
   ],
   "source": [
    "# Initialize empty lists to store true and predicted labels\n",
    "all_labels = []\n",
    "all_predictions = []\n",
    "\n",
    "model.eval()  # Set model to evaluation mode (no gradients)\n",
    "correct = 0\n",
    "total = 0\n",
    "\n",
    "with torch.no_grad():  # No need to compute gradients\n",
    "    for inputs, labels in test_loader:\n",
    "        inputs, labels = inputs.to(device), labels.to(device)\n",
    "        outputs = model(inputs)\n",
    "        _, predicted = torch.max(outputs.data, 1)\n",
    "\n",
    "        # Accumulate total correct predictions\n",
    "        total += labels.size(0)\n",
    "        correct += (predicted == labels).sum().item()\n",
    "\n",
    "        # Store predictions and true labels for confusion matrix\n",
    "        all_labels.extend(labels.cpu().numpy())\n",
    "        all_predictions.extend(predicted.cpu().numpy())\n",
    "\n",
    "# Compute test accuracy\n",
    "accuracy = 100 * correct / total\n",
    "print(f\"Test Accuracy: {accuracy}%\")\n",
    "\n",
    "# Compute confusion matrix\n",
    "conf_matrix = confusion_matrix(all_labels, all_predictions)\n",
    "\n",
    "# Print the confusion matrix\n",
    "print(\"Confusion Matrix:\")\n",
    "print(conf_matrix)"
   ]
  },
  {
   "cell_type": "code",
   "execution_count": 62,
   "metadata": {},
   "outputs": [],
   "source": [
    "# save the trained model\n",
    "torch.save(model.state_dict(), \"audio_classifier_cnn.pth\")"
   ]
  },
  {
   "cell_type": "code",
   "execution_count": 22,
   "metadata": {},
   "outputs": [
    {
     "data": {
      "text/plain": [
       "water_drinking\n",
       "0    1803\n",
       "1     530\n",
       "Name: count, dtype: int64"
      ]
     },
     "execution_count": 22,
     "metadata": {},
     "output_type": "execute_result"
    }
   ],
   "source": [
    "final_df['water_drinking'].value_counts()"
   ]
  },
  {
   "cell_type": "code",
   "execution_count": 26,
   "metadata": {},
   "outputs": [],
   "source": [
    "def split_and_label_audio(audio, event_df, sr=16000, window_size=30, overlap=15):\n",
    "    labeled_segments = []\n",
    "    step = window_size - overlap  # Compute step size based on overlap\n",
    "    \n",
    "    # Iterate over each row in event_df\n",
    "    for _, row in tqdm(event_df.iterrows()):\n",
    "        # Convert start and end times from seconds to milliseconds\n",
    "        start_time = row['start'] * 1000  # Start time in milliseconds\n",
    "        end_time = row['end'] * 1000      #  time in milliseconds\n",
    "        \n",
    "        # Loop to create overlapping windows within each event\n",
    "        while start_time < end_time:\n",
    "            # Check if the drinking event is within the window\n",
    "            label = 0  # Default label is 0 (no drinking)\n",
    "            for idx, check_row in event_df.iterrows():\n",
    "                if check_row['start'] * 1000 <= start_time < check_row['end'] * 1000:\n",
    "                    label = 1  # Drinking event is in the window\n",
    "                    break\n",
    "            \n",
    "            # Extract the audio segment based on the start and end time\n",
    "            segment = audio[start_time:start_time + window_size * 1000]\n",
    "            \n",
    "            # Append the segment and its label\n",
    "            labeled_segments.append((segment, label))\n",
    "            \n",
    "            # Move the window with overlap\n",
    "            start_time += step * 1000  # Move by step size in milliseconds\n",
    "    \n",
    "    return labeled_segments"
   ]
  },
  {
   "cell_type": "code",
   "execution_count": null,
   "metadata": {},
   "outputs": [],
   "source": [
    "audio_segments = split_and_label_audio(audio=final_audio, event_df=event_df, window_size=45, overlap=15)\n",
    "\n",
    "all_mfccs = []\n",
    "all_labels = []\n",
    "\n",
    "for segment, label in tqdm(audio_segments):\n",
    "    mfcc = extract_mfcc(segment)\n",
    "    all_mfccs.append(mfcc)\n",
    "    all_labels.append(label)\n",
    "\n",
    "# Train-test split\n",
    "X_train, X_test, y_train, y_test = train_test_split(all_mfccs, all_labels, test_size=0.25, random_state=42, stratify=all_labels)\n"
   ]
  },
  {
   "cell_type": "code",
   "execution_count": 67,
   "metadata": {},
   "outputs": [],
   "source": [
    "from torch.utils.data import Dataset, DataLoader\n",
    "import torch\n",
    "\n",
    "class AudioDataset(Dataset):\n",
    "    def __init__(self, X, y):\n",
    "        self.X = X\n",
    "        self.y = y\n",
    "\n",
    "    def __len__(self):\n",
    "        return len(self.X)\n",
    "\n",
    "    def __getitem__(self, idx):\n",
    "        mfcc = self.X[idx]\n",
    "        label = self.y[idx]\n",
    "        mfcc = np.expand_dims(mfcc, axis=0)  # Add channel dimension\n",
    "        return torch.tensor(mfcc, dtype=torch.float32), torch.tensor(label, dtype=torch.long)\n",
    "\n",
    "train_dataset = AudioDataset(X_train, y_train)\n",
    "test_dataset = AudioDataset(X_test, y_test)\n",
    "\n",
    "train_loader = DataLoader(train_dataset, batch_size=32, shuffle=True)\n",
    "test_loader = DataLoader(test_dataset, batch_size=32, shuffle=False)\n"
   ]
  },
  {
   "cell_type": "code",
   "execution_count": 77,
   "metadata": {},
   "outputs": [],
   "source": [
    "class DeepAudioClassifierCNN(nn.Module):\n",
    "    def __init__(self):\n",
    "        super(DeepAudioClassifierCNN, self).__init__()\n",
    "        # First Convolutional Block\n",
    "        self.conv1 = nn.Conv2d(1, 32, kernel_size=3, stride=1, padding=1)\n",
    "        self.bn1 = nn.BatchNorm2d(32)\n",
    "        self.conv2 = nn.Conv2d(32, 32, kernel_size=3, stride=1, padding=1)\n",
    "        self.bn2 = nn.BatchNorm2d(32)\n",
    "        self.pool = nn.MaxPool2d(kernel_size=2, stride=2)\n",
    "        self.dropout1 = nn.Dropout2d(0.3)  # Regularization\n",
    "        \n",
    "        # Second Convolutional Block with Residual Connection\n",
    "        self.conv3 = nn.Conv2d(32, 64, kernel_size=3, stride=1, padding=1)\n",
    "        self.bn3 = nn.BatchNorm2d(64)\n",
    "        self.conv4 = nn.Conv2d(64, 64, kernel_size=3, stride=1, padding=1)\n",
    "        self.bn4 = nn.BatchNorm2d(64)\n",
    "        self.conv1x1_1 = nn.Conv2d(32, 64, kernel_size=1)  # Match residual channels\n",
    "        self.dropout2 = nn.Dropout2d(0.3)\n",
    "        \n",
    "        # Third Convolutional Block with Residual Connection\n",
    "        self.conv5 = nn.Conv2d(64, 128, kernel_size=3, stride=1, padding=1)\n",
    "        self.bn5 = nn.BatchNorm2d(128)\n",
    "        self.conv6 = nn.Conv2d(128, 128, kernel_size=3, stride=1, padding=1)\n",
    "        self.bn6 = nn.BatchNorm2d(128)\n",
    "        self.conv1x1_2 = nn.Conv2d(64, 128, kernel_size=1)  # Match residual channels\n",
    "        self.dropout3 = nn.Dropout2d(0.3)\n",
    "\n",
    "        # Fully Connected Layers\n",
    "        self.fc1 = nn.Linear(self._get_conv_output_size(), 256)\n",
    "        self.fc2 = nn.Linear(256, 64)\n",
    "        self.fc3 = nn.Linear(64, 2)  # Binary classification\n",
    "\n",
    "    def _get_conv_output_size(self):\n",
    "        # Create a dummy input to calculate the size after convolution layers\n",
    "        dummy_input = torch.zeros(1, 1, 1876, 13)  # Adjust according to your MFCC input\n",
    "        x = self.pool(F.relu(self.bn1(self.conv1(dummy_input))))\n",
    "        x = self.pool(F.relu(self.bn3(self.conv3(x))))  # Apply until last conv layer\n",
    "        x = self.pool(F.relu(self.bn5(self.conv5(x))))\n",
    "        return int(torch.prod(torch.tensor(x.size()[1:])))\n",
    "    \n",
    "    def forward(self, x):\n",
    "        # First Convolutional Block\n",
    "        x = F.relu(self.bn1(self.conv1(x)))\n",
    "        x = F.relu(self.bn2(self.conv2(x)))\n",
    "        x = self.pool(x)\n",
    "        x = self.dropout1(x)\n",
    "\n",
    "        # Second Convolutional Block with Residual Connection\n",
    "        residual = self.conv1x1_1(x)  # Adjust residual channels to match conv output\n",
    "        x = F.relu(self.bn3(self.conv3(x)))\n",
    "        x = F.relu(self.bn4(self.conv4(x)))\n",
    "        x = x + residual  # Replace in-place addition\n",
    "        x = self.pool(x)\n",
    "        x = self.dropout2(x)\n",
    "\n",
    "        # Third Convolutional Block with Residual Connection\n",
    "        residual = self.conv1x1_2(x)  # Adjust residual channels to match conv output\n",
    "        x = F.relu(self.bn5(self.conv5(x)))\n",
    "        x = F.relu(self.bn6(self.conv6(x)))\n",
    "        x = x + residual  # Replace in-place addition\n",
    "        x = self.pool(x)\n",
    "        x = self.dropout3(x)\n",
    "\n",
    "        # Flatten for Fully Connected Layers\n",
    "        x = x.view(x.size(0), -1)\n",
    "\n",
    "        # Fully Connected Layers\n",
    "        x = F.relu(self.fc1(x))\n",
    "        x = F.relu(self.fc2(x))\n",
    "        x = self.fc3(x)  # No activation for output, use CrossEntropyLoss\n",
    "\n",
    "        return x\n",
    "\n",
    "# Create the model instance\n",
    "model = DeepAudioClassifierCNN()\n"
   ]
  },
  {
   "cell_type": "code",
   "execution_count": 78,
   "metadata": {},
   "outputs": [],
   "source": [
    "# Define loss function (Cross-Entropy Loss for classification)\n",
    "criterion = nn.CrossEntropyLoss()\n",
    "\n",
    "# Define optimizer (Adam optimizer)\n",
    "optimizer = optim.Adam(model.parameters(), lr=0.001)"
   ]
  },
  {
   "cell_type": "code",
   "execution_count": 79,
   "metadata": {},
   "outputs": [
    {
     "name": "stdout",
     "output_type": "stream",
     "text": [
      "Epoch [1/30], Loss: 0.8349, Accuracy: 63.87%\n",
      "Epoch [2/30], Loss: 0.6106, Accuracy: 66.21%\n",
      "Epoch [3/30], Loss: 0.5668, Accuracy: 68.10%\n",
      "Epoch [4/30], Loss: 0.5584, Accuracy: 71.18%\n",
      "Epoch [5/30], Loss: 0.5017, Accuracy: 75.19%\n",
      "Epoch [6/30], Loss: 0.4696, Accuracy: 79.30%\n",
      "Epoch [7/30], Loss: 0.4439, Accuracy: 79.47%\n",
      "Epoch [8/30], Loss: 0.4206, Accuracy: 80.67%\n",
      "Epoch [9/30], Loss: 0.3857, Accuracy: 83.25%\n",
      "Epoch [10/30], Loss: 0.3740, Accuracy: 83.59%\n",
      "Epoch [11/30], Loss: 0.3544, Accuracy: 84.62%\n",
      "Epoch [12/30], Loss: 0.3000, Accuracy: 87.02%\n",
      "Epoch [13/30], Loss: 0.2792, Accuracy: 87.31%\n",
      "Epoch [14/30], Loss: 0.2450, Accuracy: 89.71%\n",
      "Epoch [15/30], Loss: 0.2176, Accuracy: 91.19%\n",
      "Epoch [16/30], Loss: 0.2045, Accuracy: 92.11%\n",
      "Epoch [17/30], Loss: 0.1330, Accuracy: 95.20%\n",
      "Epoch [18/30], Loss: 0.1495, Accuracy: 93.14%\n",
      "Epoch [19/30], Loss: 0.1225, Accuracy: 95.31%\n",
      "Epoch [20/30], Loss: 0.1049, Accuracy: 96.23%\n",
      "Epoch [21/30], Loss: 0.0914, Accuracy: 96.74%\n",
      "Epoch [22/30], Loss: 0.0796, Accuracy: 96.97%\n",
      "Epoch [23/30], Loss: 0.0974, Accuracy: 96.34%\n",
      "Epoch [24/30], Loss: 0.0886, Accuracy: 96.91%\n",
      "Epoch [25/30], Loss: 0.0567, Accuracy: 97.88%\n",
      "Epoch [26/30], Loss: 0.0388, Accuracy: 98.80%\n",
      "Epoch [27/30], Loss: 0.0544, Accuracy: 98.00%\n",
      "Epoch [28/30], Loss: 0.0418, Accuracy: 98.74%\n",
      "Epoch [29/30], Loss: 0.0373, Accuracy: 98.57%\n",
      "Epoch [30/30], Loss: 0.0399, Accuracy: 98.68%\n"
     ]
    },
    {
     "data": {
      "image/png": "[encoded data removed]",
      "text/plain": [
       "<Figure size 1200x500 with 2 Axes>"
      ]
     },
     "metadata": {},
     "output_type": "display_data"
    }
   ],
   "source": [
    "# Number of epochs and batch size\n",
    "num_epochs = 30\n",
    "\n",
    "# Move the model to GPU if available\n",
    "device = torch.device(\"cuda\" if torch.cuda.is_available() else \"cpu\")\n",
    "model = model.to(device)\n",
    "\n",
    "# Lists to store the loss and accuracy values for plotting\n",
    "train_loss_history = []\n",
    "train_accuracy_history = []\n",
    "\n",
    "# Training loop\n",
    "for epoch in range(num_epochs):\n",
    "    model.train()\n",
    "    running_loss = 0.0\n",
    "    correct = 0\n",
    "    total = 0\n",
    "    \n",
    "    for i, (inputs, labels) in enumerate(train_loader):\n",
    "        inputs, labels = inputs.to(device), labels.to(device)\n",
    "        \n",
    "        # Zero the parameter gradients\n",
    "        optimizer.zero_grad()\n",
    "        \n",
    "        # Forward pass\n",
    "        outputs = model(inputs)\n",
    "        loss = criterion(outputs, labels)\n",
    "        \n",
    "        # Backward pass and optimization\n",
    "        loss.backward()\n",
    "        optimizer.step()\n",
    "        \n",
    "        # Statistics\n",
    "        running_loss += loss.item()\n",
    "        _, predicted = torch.max(outputs, 1)\n",
    "        total += labels.size(0)\n",
    "        correct += (predicted == labels).sum().item()\n",
    "    \n",
    "    # Compute loss and accuracy for the epoch\n",
    "    epoch_loss = running_loss / len(train_loader)\n",
    "    epoch_accuracy = 100 * correct / total\n",
    "\n",
    "    # Store the values for plotting\n",
    "    train_loss_history.append(epoch_loss)\n",
    "    train_accuracy_history.append(epoch_accuracy)\n",
    "    \n",
    "    # Print epoch stats\n",
    "    print(f\"Epoch [{epoch + 1}/{num_epochs}], Loss: {epoch_loss:.4f}, Accuracy: {epoch_accuracy:.2f}%\")\n",
    "\n",
    "# Plotting the Loss and Accuracy over epochs\n",
    "plt.figure(figsize=(12, 5))\n",
    "\n",
    "# Plot Loss\n",
    "plt.subplot(1, 2, 1)\n",
    "plt.plot(range(1, num_epochs+1), train_loss_history, marker='o', label='Training Loss')\n",
    "plt.title('Loss over Epochs')\n",
    "plt.xlabel('Epoch')\n",
    "plt.ylabel('Loss')\n",
    "plt.legend()\n",
    "\n",
    "# Plot Accuracy\n",
    "plt.subplot(1, 2, 2)\n",
    "plt.plot(range(1, num_epochs+1), train_accuracy_history, marker='o', label='Training Accuracy')\n",
    "plt.title('Accuracy over Epochs')\n",
    "plt.xlabel('Epoch')\n",
    "plt.ylabel('Accuracy (%)')\n",
    "plt.legend()\n",
    "\n",
    "# Show the plots\n",
    "plt.tight_layout()\n",
    "plt.show()\n"
   ]
  },
  {
   "cell_type": "code",
   "execution_count": 76,
   "metadata": {},
   "outputs": [
    {
     "name": "stdout",
     "output_type": "stream",
     "text": [
      "Test Accuracy: 84.76027397260275%\n",
      "Confusion Matrix:\n",
      "[[340  53]\n",
      " [ 36 155]]\n"
     ]
    }
   ],
   "source": [
    "# Initialize empty lists to store true and predicted labels\n",
    "all_labels = []\n",
    "all_predictions = []\n",
    "\n",
    "model.eval()  # Set model to evaluation mode (no gradients)\n",
    "correct = 0\n",
    "total = 0\n",
    "\n",
    "with torch.no_grad():  # No need to compute gradients\n",
    "    for inputs, labels in test_loader:\n",
    "        inputs, labels = inputs.to(device), labels.to(device)\n",
    "        outputs = model(inputs)\n",
    "        _, predicted = torch.max(outputs.data, 1)\n",
    "\n",
    "        # Accumulate total correct predictions\n",
    "        total += labels.size(0)\n",
    "        correct += (predicted == labels).sum().item()\n",
    "\n",
    "        # Store predictions and true labels for confusion matrix\n",
    "        all_labels.extend(labels.cpu().numpy())\n",
    "        all_predictions.extend(predicted.cpu().numpy())\n",
    "\n",
    "# Compute test accuracy\n",
    "accuracy = 100 * correct / total\n",
    "print(f\"Test Accuracy: {accuracy}%\")\n",
    "\n",
    "# Compute confusion matrix\n",
    "conf_matrix = confusion_matrix(all_labels, all_predictions)\n",
    "\n",
    "# Print the confusion matrix\n",
    "print(\"Confusion Matrix:\")\n",
    "print(conf_matrix)"
   ]
  },
  {
   "cell_type": "code",
   "execution_count": 1,
   "metadata": {},
   "outputs": [],
   "source": [
    "    # "
   ]
  },
  {
   "cell_type": "code",
   "execution_count": null,
   "metadata": {},
   "outputs": [],
   "source": []
  }
 ],
 "metadata": {
  "kernelspec": {
   "display_name": "Python 3",
   "language": "python",
   "name": "python3"
  },
  "language_info": {
   "codemirror_mode": {
    "name": "ipython",
    "version": 3
   },
   "file_extension": ".py",
   "mimetype": "text/x-python",
   "name": "python",
   "nbconvert_exporter": "python",
   "pygments_lexer": "ipython3",
   "version": "3.9.9"
  },
  "orig_nbformat": 4
 },
 "nbformat": 4,
 "nbformat_minor": 2
}
